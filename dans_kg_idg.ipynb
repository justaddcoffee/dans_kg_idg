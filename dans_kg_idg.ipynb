{
 "cells": [
  {
   "cell_type": "code",
   "execution_count": 1,
   "id": "initial_id",
   "metadata": {
    "collapsed": true,
    "ExecuteTime": {
     "end_time": "2023-10-31T10:43:22.748316Z",
     "start_time": "2023-10-31T10:41:08.241062Z"
    }
   },
   "outputs": [
    {
     "name": "stdout",
     "output_type": "stream",
     "text": [
      "Collecting grape\r\n",
      "  Using cached grape-0.2.2.tar.gz (9.2 kB)\r\n",
      "  Preparing metadata (setup.py) ... \u001B[?25ldone\r\n",
      "\u001B[?25hCollecting downloaders\r\n",
      "  Downloading downloaders-1.0.20.tar.gz (10 kB)\r\n",
      "  Preparing metadata (setup.py) ... \u001B[?25ldone\r\n",
      "\u001B[?25hCollecting bioregistry\r\n",
      "  Using cached bioregistry-0.10.66-py3-none-any.whl (10.4 MB)\r\n",
      "Collecting py-cpuinfo\r\n",
      "  Using cached py_cpuinfo-9.0.0-py3-none-any.whl (22 kB)\r\n",
      "Collecting ensmallen>=0.8.64\r\n",
      "  Downloading ensmallen-0.8.86-cp37-abi3-macosx_10_12_x86_64.whl (29.2 MB)\r\n",
      "\u001B[2K     \u001B[90m━━━━━━━━━━━━━━━━━━━━━━━━━━━━━━━━━━━━━━━━\u001B[0m \u001B[32m29.2/29.2 MB\u001B[0m \u001B[31m18.3 MB/s\u001B[0m eta \u001B[36m0:00:00\u001B[0m00:01\u001B[0m00:01\u001B[0m\r\n",
      "\u001B[?25hCollecting embiggen>=0.11.61\r\n",
      "  Using cached embiggen-0.11.83.tar.gz (240 kB)\r\n",
      "  Preparing metadata (setup.py) ... \u001B[?25ldone\r\n",
      "\u001B[?25hCollecting numpy\r\n",
      "  Downloading numpy-1.26.1-cp311-cp311-macosx_10_9_x86_64.whl (20.6 MB)\r\n",
      "\u001B[2K     \u001B[90m━━━━━━━━━━━━━━━━━━━━━━━━━━━━━━━━━━━━━━━━\u001B[0m \u001B[32m20.6/20.6 MB\u001B[0m \u001B[31m20.6 MB/s\u001B[0m eta \u001B[36m0:00:00\u001B[0m00:01\u001B[0m00:01\u001B[0m\r\n",
      "\u001B[?25hCollecting pandas\r\n",
      "  Downloading pandas-2.1.2-cp311-cp311-macosx_10_9_x86_64.whl (11.6 MB)\r\n",
      "\u001B[2K     \u001B[90m━━━━━━━━━━━━━━━━━━━━━━━━━━━━━━━━━━━━━━━━\u001B[0m \u001B[32m11.6/11.6 MB\u001B[0m \u001B[31m21.4 MB/s\u001B[0m eta \u001B[36m0:00:00\u001B[0m00:01\u001B[0m00:01\u001B[0m\r\n",
      "\u001B[?25hRequirement already satisfied: Jinja2 in ./venv/lib/python3.11/site-packages (from embiggen>=0.11.61->grape) (3.1.2)\r\n",
      "Collecting tqdm\r\n",
      "  Using cached tqdm-4.66.1-py3-none-any.whl (78 kB)\r\n",
      "Collecting humanize\r\n",
      "  Using cached humanize-4.8.0-py3-none-any.whl (117 kB)\r\n",
      "Collecting matplotlib>=3.5.2\r\n",
      "  Using cached matplotlib-3.8.0-cp311-cp311-macosx_10_12_x86_64.whl (7.6 MB)\r\n",
      "Collecting scikit-learn>=1.2\r\n",
      "  Using cached scikit_learn-1.3.2-cp311-cp311-macosx_10_9_x86_64.whl (10.1 MB)\r\n",
      "Collecting dict_hash>=1.1.32\r\n",
      "  Using cached dict_hash-1.1.32.tar.gz (7.0 kB)\r\n",
      "  Preparing metadata (setup.py) ... \u001B[?25ldone\r\n",
      "\u001B[?25hCollecting userinput>=1.0.20\r\n",
      "  Using cached userinput-1.0.21.tar.gz (8.8 kB)\r\n",
      "  Preparing metadata (setup.py) ... \u001B[?25ldone\r\n",
      "\u001B[?25hCollecting ddd_subplots>=1.0.26\r\n",
      "  Using cached ddd_subplots-1.0.26.tar.gz (6.8 kB)\r\n",
      "  Preparing metadata (setup.py) ... \u001B[?25ldone\r\n",
      "\u001B[?25hCollecting sanitize_ml_labels>=1.0.50\r\n",
      "  Using cached sanitize_ml_labels-1.0.51.tar.gz (322 kB)\r\n",
      "  Preparing metadata (setup.py) ... \u001B[?25ldone\r\n",
      "\u001B[?25hCollecting keras_mixed_sequence>=1.0.28\r\n",
      "  Using cached keras_mixed_sequence-1.0.28.tar.gz (6.4 kB)\r\n",
      "  Preparing metadata (setup.py) ... \u001B[?25ldone\r\n",
      "\u001B[?25hCollecting environments_utils>=1.0.10\r\n",
      "  Using cached environments_utils-1.0.10.tar.gz (5.4 kB)\r\n",
      "  Preparing metadata (setup.py) ... \u001B[?25ldone\r\n",
      "\u001B[?25hCollecting compress_pickle>=2.1.0\r\n",
      "  Using cached compress_pickle-2.1.0-py3-none-any.whl (24 kB)\r\n",
      "Collecting validate_version_code\r\n",
      "  Using cached validate_version_code-1.0.4.tar.gz (3.0 kB)\r\n",
      "  Preparing metadata (setup.py) ... \u001B[?25ldone\r\n",
      "\u001B[?25hCollecting cache_decorator>=2.1.14\r\n",
      "  Using cached cache_decorator-2.1.15.tar.gz (35 kB)\r\n",
      "  Preparing metadata (setup.py) ... \u001B[?25ldone\r\n",
      "\u001B[?25hCollecting threadpoolctl>=3.1.0\r\n",
      "  Using cached threadpoolctl-3.2.0-py3-none-any.whl (15 kB)\r\n",
      "Collecting pydot\r\n",
      "  Using cached pydot-1.4.2-py2.py3-none-any.whl (21 kB)\r\n",
      "Requirement already satisfied: packaging in ./venv/lib/python3.11/site-packages (from embiggen>=0.11.61->grape) (23.2)\r\n",
      "Collecting toml~=0.10.0\r\n",
      "  Using cached toml-0.10.2-py2.py3-none-any.whl (16 kB)\r\n",
      "Collecting compress_json>=1.0.7\r\n",
      "  Using cached compress_json-1.0.8.tar.gz (4.7 kB)\r\n",
      "  Preparing metadata (setup.py) ... \u001B[?25ldone\r\n",
      "\u001B[?25hRequirement already satisfied: requests in ./venv/lib/python3.11/site-packages (from bioregistry->grape) (2.31.0)\r\n",
      "Collecting pystow>=0.1.13\r\n",
      "  Using cached pystow-0.5.0-py3-none-any.whl (37 kB)\r\n",
      "Collecting click\r\n",
      "  Using cached click-8.1.7-py3-none-any.whl (97 kB)\r\n",
      "Collecting more-click>=0.1.2\r\n",
      "  Using cached more_click-0.1.2-py3-none-any.whl (6.7 kB)\r\n",
      "Collecting pydantic\r\n",
      "  Using cached pydantic-2.4.2-py3-none-any.whl (395 kB)\r\n",
      "Collecting curies>=0.6.0\r\n",
      "  Downloading curies-0.6.7-py3-none-any.whl (35 kB)\r\n",
      "Collecting deflate_dict\r\n",
      "  Using cached deflate_dict-1.0.11.tar.gz (4.2 kB)\r\n",
      "  Preparing metadata (setup.py) ... \u001B[?25ldone\r\n",
      "\u001B[?25hCollecting support_developer\r\n",
      "  Using cached support_developer-1.0.5.tar.gz (4.9 kB)\r\n",
      "  Preparing metadata (setup.py) ... \u001B[?25ldone\r\n",
      "\u001B[?25hCollecting pytrie\r\n",
      "  Using cached PyTrie-0.4.0.tar.gz (95 kB)\r\n",
      "  Preparing metadata (setup.py) ... \u001B[?25ldone\r\n",
      "\u001B[?25hCollecting pygifsicle\r\n",
      "  Using cached pygifsicle-1.0.7.tar.gz (4.6 kB)\r\n",
      "  Preparing metadata (setup.py) ... \u001B[?25ldone\r\n",
      "\u001B[?25hCollecting imageio\r\n",
      "  Using cached imageio-2.31.6-py3-none-any.whl (313 kB)\r\n",
      "Collecting opencv-python\r\n",
      "  Using cached opencv_python-4.8.1.78-cp37-abi3-macosx_10_16_x86_64.whl (54.7 MB)\r\n",
      "Collecting contourpy>=1.0.1\r\n",
      "  Using cached contourpy-1.1.1-cp311-cp311-macosx_10_9_x86_64.whl (248 kB)\r\n",
      "Collecting cycler>=0.10\r\n",
      "  Using cached cycler-0.12.1-py3-none-any.whl (8.3 kB)\r\n",
      "Collecting fonttools>=4.22.0\r\n",
      "  Downloading fonttools-4.43.1-cp311-cp311-macosx_10_9_x86_64.whl (2.2 MB)\r\n",
      "\u001B[2K     \u001B[90m━━━━━━━━━━━━━━━━━━━━━━━━━━━━━━━━━━━━━━━━\u001B[0m \u001B[32m2.2/2.2 MB\u001B[0m \u001B[31m21.4 MB/s\u001B[0m eta \u001B[36m0:00:00\u001B[0ma \u001B[36m0:00:01\u001B[0m\r\n",
      "\u001B[?25hCollecting kiwisolver>=1.0.1\r\n",
      "  Using cached kiwisolver-1.4.5-cp311-cp311-macosx_10_9_x86_64.whl (68 kB)\r\n",
      "Collecting pillow>=6.2.0\r\n",
      "  Downloading Pillow-10.1.0-cp311-cp311-macosx_10_10_x86_64.whl (3.5 MB)\r\n",
      "\u001B[2K     \u001B[90m━━━━━━━━━━━━━━━━━━━━━━━━━━━━━━━━━━━━━━━━\u001B[0m \u001B[32m3.5/3.5 MB\u001B[0m \u001B[31m21.0 MB/s\u001B[0m eta \u001B[36m0:00:00\u001B[0m00:01\u001B[0m00:01\u001B[0m\r\n",
      "\u001B[?25hCollecting pyparsing>=2.3.1\r\n",
      "  Using cached pyparsing-3.1.1-py3-none-any.whl (103 kB)\r\n",
      "Requirement already satisfied: python-dateutil>=2.7 in ./venv/lib/python3.11/site-packages (from matplotlib>=3.5.2->embiggen>=0.11.61->grape) (2.8.2)\r\n",
      "Collecting scipy>=1.5.0\r\n",
      "  Using cached scipy-1.11.3-cp311-cp311-macosx_10_9_x86_64.whl (37.2 MB)\r\n",
      "Collecting joblib>=1.1.1\r\n",
      "  Using cached joblib-1.3.2-py3-none-any.whl (302 kB)\r\n",
      "Collecting validators\r\n",
      "  Using cached validators-0.22.0-py3-none-any.whl (26 kB)\r\n",
      "Collecting validate_email\r\n",
      "  Using cached validate_email-1.3.tar.gz (4.7 kB)\r\n",
      "  Preparing metadata (setup.py) ... \u001B[?25ldone\r\n",
      "\u001B[?25hRequirement already satisfied: ipython in ./venv/lib/python3.11/site-packages (from userinput>=1.0.20->embiggen>=0.11.61->grape) (8.17.2)\r\n",
      "Collecting IPy\r\n",
      "  Using cached IPy-1.01.tar.gz (33 kB)\r\n",
      "  Preparing metadata (setup.py) ... \u001B[?25ldone\r\n",
      "\u001B[?25hCollecting jaro-winkler\r\n",
      "  Using cached jaro_winkler-2.0.3-py3-none-any.whl (33 kB)\r\n",
      "Requirement already satisfied: MarkupSafe>=2.0 in ./venv/lib/python3.11/site-packages (from Jinja2->embiggen>=0.11.61->grape) (2.1.3)\r\n",
      "Collecting pytz>=2020.1\r\n",
      "  Using cached pytz-2023.3.post1-py2.py3-none-any.whl (502 kB)\r\n",
      "Collecting tzdata>=2022.1\r\n",
      "  Using cached tzdata-2023.3-py2.py3-none-any.whl (341 kB)\r\n",
      "Collecting annotated-types>=0.4.0\r\n",
      "  Using cached annotated_types-0.6.0-py3-none-any.whl (12 kB)\r\n",
      "Collecting pydantic-core==2.10.1\r\n",
      "  Using cached pydantic_core-2.10.1-cp311-cp311-macosx_10_7_x86_64.whl (1.9 MB)\r\n",
      "Collecting typing-extensions>=4.6.1\r\n",
      "  Using cached typing_extensions-4.8.0-py3-none-any.whl (31 kB)\r\n",
      "Requirement already satisfied: charset-normalizer<4,>=2 in ./venv/lib/python3.11/site-packages (from requests->bioregistry->grape) (3.3.1)\r\n",
      "Requirement already satisfied: idna<4,>=2.5 in ./venv/lib/python3.11/site-packages (from requests->bioregistry->grape) (3.4)\r\n",
      "Requirement already satisfied: urllib3<3,>=1.21.1 in ./venv/lib/python3.11/site-packages (from requests->bioregistry->grape) (2.0.7)\r\n",
      "Requirement already satisfied: certifi>=2017.4.17 in ./venv/lib/python3.11/site-packages (from requests->bioregistry->grape) (2023.7.22)\r\n",
      "Requirement already satisfied: six>=1.5 in ./venv/lib/python3.11/site-packages (from python-dateutil>=2.7->matplotlib>=3.5.2->embiggen>=0.11.61->grape) (1.16.0)\r\n",
      "Collecting pillow>=6.2.0\r\n",
      "  Downloading Pillow-10.0.1-cp311-cp311-macosx_10_10_x86_64.whl (3.7 MB)\r\n",
      "\u001B[2K     \u001B[90m━━━━━━━━━━━━━━━━━━━━━━━━━━━━━━━━━━━━━━━━\u001B[0m \u001B[32m3.7/3.7 MB\u001B[0m \u001B[31m17.0 MB/s\u001B[0m eta \u001B[36m0:00:00\u001B[0m00:01\u001B[0m00:01\u001B[0m\r\n",
      "\u001B[?25hRequirement already satisfied: decorator in ./venv/lib/python3.11/site-packages (from ipython->userinput>=1.0.20->embiggen>=0.11.61->grape) (5.1.1)\r\n",
      "Requirement already satisfied: jedi>=0.16 in ./venv/lib/python3.11/site-packages (from ipython->userinput>=1.0.20->embiggen>=0.11.61->grape) (0.19.1)\r\n",
      "Requirement already satisfied: matplotlib-inline in ./venv/lib/python3.11/site-packages (from ipython->userinput>=1.0.20->embiggen>=0.11.61->grape) (0.1.6)\r\n",
      "Requirement already satisfied: prompt-toolkit!=3.0.37,<3.1.0,>=3.0.30 in ./venv/lib/python3.11/site-packages (from ipython->userinput>=1.0.20->embiggen>=0.11.61->grape) (3.0.39)\r\n",
      "Requirement already satisfied: pygments>=2.4.0 in ./venv/lib/python3.11/site-packages (from ipython->userinput>=1.0.20->embiggen>=0.11.61->grape) (2.16.1)\r\n",
      "Requirement already satisfied: stack-data in ./venv/lib/python3.11/site-packages (from ipython->userinput>=1.0.20->embiggen>=0.11.61->grape) (0.6.3)\r\n",
      "Requirement already satisfied: traitlets>=5 in ./venv/lib/python3.11/site-packages (from ipython->userinput>=1.0.20->embiggen>=0.11.61->grape) (5.13.0)\r\n",
      "Requirement already satisfied: pexpect>4.3 in ./venv/lib/python3.11/site-packages (from ipython->userinput>=1.0.20->embiggen>=0.11.61->grape) (4.8.0)\r\n",
      "Requirement already satisfied: appnope in ./venv/lib/python3.11/site-packages (from ipython->userinput>=1.0.20->embiggen>=0.11.61->grape) (0.1.3)\r\n",
      "Collecting sortedcontainers\r\n",
      "  Using cached sortedcontainers-2.4.0-py2.py3-none-any.whl (29 kB)\r\n",
      "Requirement already satisfied: parso<0.9.0,>=0.8.3 in ./venv/lib/python3.11/site-packages (from jedi>=0.16->ipython->userinput>=1.0.20->embiggen>=0.11.61->grape) (0.8.3)\r\n",
      "Requirement already satisfied: ptyprocess>=0.5 in ./venv/lib/python3.11/site-packages (from pexpect>4.3->ipython->userinput>=1.0.20->embiggen>=0.11.61->grape) (0.7.0)\r\n",
      "Requirement already satisfied: wcwidth in ./venv/lib/python3.11/site-packages (from prompt-toolkit!=3.0.37,<3.1.0,>=3.0.30->ipython->userinput>=1.0.20->embiggen>=0.11.61->grape) (0.2.9)\r\n",
      "Requirement already satisfied: executing>=1.2.0 in ./venv/lib/python3.11/site-packages (from stack-data->ipython->userinput>=1.0.20->embiggen>=0.11.61->grape) (2.0.1)\r\n",
      "Requirement already satisfied: asttokens>=2.1.0 in ./venv/lib/python3.11/site-packages (from stack-data->ipython->userinput>=1.0.20->embiggen>=0.11.61->grape) (2.4.1)\r\n",
      "Requirement already satisfied: pure-eval in ./venv/lib/python3.11/site-packages (from stack-data->ipython->userinput>=1.0.20->embiggen>=0.11.61->grape) (0.2.2)\r\n",
      "Building wheels for collected packages: grape, embiggen, downloaders, cache_decorator, compress_json, ddd_subplots, dict_hash, environments_utils, keras_mixed_sequence, sanitize_ml_labels, userinput, validate_version_code, deflate_dict, support_developer, IPy, pygifsicle, pytrie, validate_email\r\n",
      "  Building wheel for grape (setup.py) ... \u001B[?25ldone\r\n",
      "\u001B[?25h  Created wheel for grape: filename=grape-0.2.2-py3-none-any.whl size=7478 sha256=215dfc711b1e767fc6a8e4b688c4ffb28805a5fd452710f6d3ed89d7972a623d\r\n",
      "  Stored in directory: /Users/jtr4v/Library/Caches/pip/wheels/12/fb/64/e993970a8b529f2c711c5b13c5e7f9d5a89821f065c2b6db1a\r\n",
      "  Building wheel for embiggen (setup.py) ... \u001B[?25ldone\r\n",
      "\u001B[?25h  Created wheel for embiggen: filename=embiggen-0.11.83-py3-none-any.whl size=431540 sha256=f13ba3cc5cf6e4da4f7116c2cc379583b47bf345a5868337af39c44a95a238f8\r\n",
      "  Stored in directory: /Users/jtr4v/Library/Caches/pip/wheels/70/be/57/3ef733793b5958a76b89da671f59f6387bbaedf19b76fff72a\r\n",
      "  Building wheel for downloaders (setup.py) ... \u001B[?25ldone\r\n",
      "\u001B[?25h  Created wheel for downloaders: filename=downloaders-1.0.20-py3-none-any.whl size=15673 sha256=8bb2e1b3d529bb63dc80572842c4569df4a6cc5818bc633cc3024b97fdf857a1\r\n",
      "  Stored in directory: /Users/jtr4v/Library/Caches/pip/wheels/66/bc/b4/1065472f199f632b50f4459f2482598ebb50a22141849e4dde\r\n",
      "  Building wheel for cache_decorator (setup.py) ... \u001B[?25ldone\r\n",
      "\u001B[?25h  Created wheel for cache_decorator: filename=cache_decorator-2.1.15-py3-none-any.whl size=30362 sha256=11ab4cc6ed1cce298834b9b00ae69f9182e43d33d1b7293df0514c79e3bfbe88\r\n",
      "  Stored in directory: /Users/jtr4v/Library/Caches/pip/wheels/e4/18/6b/d90414856d1a5b8bcd89de465053a689da3e267dd08235dd06\r\n",
      "  Building wheel for compress_json (setup.py) ... \u001B[?25ldone\r\n",
      "\u001B[?25h  Created wheel for compress_json: filename=compress_json-1.0.8-py3-none-any.whl size=4717 sha256=cad878888365fb25dde8bb63b1a54d4b3947002823eb592a092bffbb0d4eafd4\r\n",
      "  Stored in directory: /Users/jtr4v/Library/Caches/pip/wheels/4b/39/b9/31f6ff8c94e7884b30d67d51a2f54653ee4188dfa63035eeb1\r\n",
      "  Building wheel for ddd_subplots (setup.py) ... \u001B[?25ldone\r\n",
      "\u001B[?25h  Created wheel for ddd_subplots: filename=ddd_subplots-1.0.26-py3-none-any.whl size=7679 sha256=455c54a4123c981b1cea54dde2519be7df69d5728b51e7a0b1776b99fb6b8b87\r\n",
      "  Stored in directory: /Users/jtr4v/Library/Caches/pip/wheels/12/c6/10/06396041cfbd15d630fb49baf0aa1849760aaaa57d92434f40\r\n",
      "  Building wheel for dict_hash (setup.py) ... \u001B[?25ldone\r\n",
      "\u001B[?25h  Created wheel for dict_hash: filename=dict_hash-1.1.32-py3-none-any.whl size=7791 sha256=e6f29ce8fcecc088325bf1027350a95106c31e80401f441c5770f20b754dba45\r\n",
      "  Stored in directory: /Users/jtr4v/Library/Caches/pip/wheels/97/eb/ed/cc20fd026a9d63ea437a81b7f78803b072c800a278f8d1dbf6\r\n",
      "  Building wheel for environments_utils (setup.py) ... \u001B[?25ldone\r\n",
      "\u001B[?25h  Created wheel for environments_utils: filename=environments_utils-1.0.10-py3-none-any.whl size=7298 sha256=9eb0f444fdeef140bbefde3debc519dd65dda799ce01e034518b24f527672568\r\n",
      "  Stored in directory: /Users/jtr4v/Library/Caches/pip/wheels/ca/e8/47/c35ab234f9eae30f0414a52fb0e10037c570dac98eba75cf92\r\n",
      "  Building wheel for keras_mixed_sequence (setup.py) ... \u001B[?25ldone\r\n",
      "\u001B[?25h  Created wheel for keras_mixed_sequence: filename=keras_mixed_sequence-1.0.28-py3-none-any.whl size=7508 sha256=3dbec67e31b221c4d0e79e0a80a39d7103a0435397504003b433c8219bc91917\r\n",
      "  Stored in directory: /Users/jtr4v/Library/Caches/pip/wheels/06/a0/56/14190cae691f17d6424682d9b64b4b2a5c2aa98bfad0c8cdf6\r\n",
      "  Building wheel for sanitize_ml_labels (setup.py) ... \u001B[?25ldone\r\n",
      "\u001B[?25h  Created wheel for sanitize_ml_labels: filename=sanitize_ml_labels-1.0.51-py3-none-any.whl size=321865 sha256=1a49c68feac1b9f4e27c95bfcf97adebeff04c0b7cedd9234729234fb7c6befa\r\n",
      "  Stored in directory: /Users/jtr4v/Library/Caches/pip/wheels/05/eb/14/9a3db924a68b1cf920371b4891a9942beb6bad8b92522ed2cd\r\n",
      "  Building wheel for userinput (setup.py) ... \u001B[?25ldone\r\n",
      "\u001B[?25h  Created wheel for userinput: filename=userinput-1.0.21-py3-none-any.whl size=10049 sha256=5f8664f04fd9ac98c57290af6305a8b75944b2295112dcee4b7681d446639c2f\r\n",
      "  Stored in directory: /Users/jtr4v/Library/Caches/pip/wheels/dd/02/fb/a36f0870740067ec496d0a657952e04b92902a396bf7cf1ca9\r\n",
      "  Building wheel for validate_version_code (setup.py) ... \u001B[?25ldone\r\n",
      "\u001B[?25h  Created wheel for validate_version_code: filename=validate_version_code-1.0.4-py3-none-any.whl size=3193 sha256=0c495c1bc9c7c5a4711391a38e1c1994c835d20ae4c7c5adbe3f7a2f6327aee7\r\n",
      "  Stored in directory: /Users/jtr4v/Library/Caches/pip/wheels/cb/ec/ec/8c035f46d968ec95a7485d67b42a93d1eff1b8b3c82b8a5c57\r\n",
      "  Building wheel for deflate_dict (setup.py) ... \u001B[?25ldone\r\n",
      "\u001B[?25h  Created wheel for deflate_dict: filename=deflate_dict-1.0.11-py3-none-any.whl size=5856 sha256=507083a0894621b08a4af1262d4474efdaa9de01e5e8b7f6cb26a1fd1fbc2f12\r\n",
      "  Stored in directory: /Users/jtr4v/Library/Caches/pip/wheels/c4/be/e7/6d3c177326f8917b3caf46a3564fe9d1f168de462a1ec084e0\r\n",
      "  Building wheel for support_developer (setup.py) ... \u001B[?25ldone\r\n",
      "\u001B[?25h  Created wheel for support_developer: filename=support_developer-1.0.5-py3-none-any.whl size=5630 sha256=302472eca889b5b2d09e592937c3c4277455895a63807bf777b1fa976157829b\r\n",
      "  Stored in directory: /Users/jtr4v/Library/Caches/pip/wheels/e5/49/6c/1138f1e7b928d8723ce36de210404ca0d9556a5283490fc395\r\n",
      "  Building wheel for IPy (setup.py) ... \u001B[?25ldone\r\n",
      "\u001B[?25h  Created wheel for IPy: filename=IPy-1.1-py3-none-any.whl size=19440 sha256=5ad3fe0873908aad7be96c97709e5ac5836d594d208673e7b343a2bee042088d\r\n",
      "  Stored in directory: /Users/jtr4v/Library/Caches/pip/wheels/49/3a/4e/1007caf78a8c5a6debe5e8c47582098692e4fc72515dbe3303\r\n",
      "  Building wheel for pygifsicle (setup.py) ... \u001B[?25ldone\r\n",
      "\u001B[?25h  Created wheel for pygifsicle: filename=pygifsicle-1.0.7-py3-none-any.whl size=4092 sha256=ce2c4ff543596f913870c9873ddc4e8fdb5eddfd23dbca44e0c7bb452ccdd66d\r\n",
      "  Stored in directory: /Users/jtr4v/Library/Caches/pip/wheels/e9/c1/8d/4a61ffedb3fd710b0fcb612a256135d2526149863e08671d53\r\n",
      "  Building wheel for pytrie (setup.py) ... \u001B[?25ldone\r\n",
      "\u001B[?25h  Created wheel for pytrie: filename=PyTrie-0.4.0-py3-none-any.whl size=6080 sha256=ab14eb36d2176af7d6f2adca6977d969ed32ba664aff61412c5a88eb6dcfd6ac\r\n",
      "  Stored in directory: /Users/jtr4v/Library/Caches/pip/wheels/5b/08/b2/8fd7afedc901598e104c3c59a668389879a62abcbdeb780a3f\r\n",
      "  Building wheel for validate_email (setup.py) ... \u001B[?25ldone\r\n",
      "\u001B[?25h  Created wheel for validate_email: filename=validate_email-1.3-py3-none-any.whl size=5467 sha256=802603ea98acb2d5eb2ca54d3d57bd4197d7d8d0aefe819692cdce46a57a3f12\r\n",
      "  Stored in directory: /Users/jtr4v/Library/Caches/pip/wheels/3f/2b/63/f5b0a27a02220ac9cb111ee28fd4873f08f9c895280e183262\r\n",
      "Successfully built grape embiggen downloaders cache_decorator compress_json ddd_subplots dict_hash environments_utils keras_mixed_sequence sanitize_ml_labels userinput validate_version_code deflate_dict support_developer IPy pygifsicle pytrie validate_email\r\n",
      "Installing collected packages: validate_version_code, validate_email, support_developer, sortedcontainers, pytz, py-cpuinfo, jaro-winkler, IPy, validators, tzdata, typing-extensions, tqdm, toml, threadpoolctl, pytrie, pyparsing, pygifsicle, pillow, numpy, kiwisolver, joblib, humanize, fonttools, environments_utils, deflate_dict, cycler, compress_pickle, compress_json, click, annotated-types, scipy, sanitize_ml_labels, pystow, pydot, pydantic-core, pandas, opencv-python, more-click, keras_mixed_sequence, imageio, dict_hash, contourpy, scikit-learn, pydantic, matplotlib, downloaders, cache_decorator, userinput, ddd_subplots, curies, bioregistry, ensmallen, embiggen, grape\r\n",
      "Successfully installed IPy-1.1 annotated-types-0.6.0 bioregistry-0.10.66 cache_decorator-2.1.15 click-8.1.7 compress_json-1.0.8 compress_pickle-2.1.0 contourpy-1.1.1 curies-0.6.7 cycler-0.12.1 ddd_subplots-1.0.26 deflate_dict-1.0.11 dict_hash-1.1.32 downloaders-1.0.20 embiggen-0.11.83 ensmallen-0.8.86 environments_utils-1.0.10 fonttools-4.43.1 grape-0.2.2 humanize-4.8.0 imageio-2.31.6 jaro-winkler-2.0.3 joblib-1.3.2 keras_mixed_sequence-1.0.28 kiwisolver-1.4.5 matplotlib-3.8.0 more-click-0.1.2 numpy-1.26.1 opencv-python-4.8.1.78 pandas-2.1.2 pillow-10.0.1 py-cpuinfo-9.0.0 pydantic-2.4.2 pydantic-core-2.10.1 pydot-1.4.2 pygifsicle-1.0.7 pyparsing-3.1.1 pystow-0.5.0 pytrie-0.4.0 pytz-2023.3.post1 sanitize_ml_labels-1.0.51 scikit-learn-1.3.2 scipy-1.11.3 sortedcontainers-2.4.0 support_developer-1.0.5 threadpoolctl-3.2.0 toml-0.10.2 tqdm-4.66.1 typing-extensions-4.8.0 tzdata-2023.3 userinput-1.0.21 validate_email-1.3 validate_version_code-1.0.4 validators-0.22.0\r\n",
      "\r\n",
      "\u001B[1m[\u001B[0m\u001B[34;49mnotice\u001B[0m\u001B[1;39;49m]\u001B[0m\u001B[39;49m A new release of pip available: \u001B[0m\u001B[31;49m22.3.1\u001B[0m\u001B[39;49m -> \u001B[0m\u001B[32;49m23.3.1\u001B[0m\r\n",
      "\u001B[1m[\u001B[0m\u001B[34;49mnotice\u001B[0m\u001B[1;39;49m]\u001B[0m\u001B[39;49m To update, run: \u001B[0m\u001B[32;49mpip install --upgrade pip\u001B[0m\r\n"
     ]
    }
   ],
   "source": [
    "!pip install grape"
   ]
  },
  {
   "cell_type": "code",
   "execution_count": 1,
   "outputs": [
    {
     "name": "stderr",
     "output_type": "stream",
     "text": [
      "/Users/jtr4v/PythonProject/dans_kg_idg/venv/lib/python3.11/site-packages/ensmallen/__init__.py:22: UserWarning: Ensmallen is compiled for the Intel Haswell architecture (2013).On the current machine, the flags '['avx2', 'bmi2', 'popcnt']' are required but '{'avx2', 'bmi2'}' are not available.\n",
      "The library will use a slower but more compatible version (Intel Core2 2006).\n",
      "  warnings.warn(\n"
     ]
    }
   ],
   "source": [
    "from grape.datasets.kghub import KGIDG\n",
    "import pandas as pd\n",
    "from grape.edge_prediction import edge_prediction_evaluation\n",
    "from grape.edge_prediction import PerceptronEdgePrediction\n",
    "from grape.embedders import FirstOrderLINEEnsmallen, SecondOrderLINEEnsmallen\n",
    "from grape.embedders import DeepWalkCBOWEnsmallen, DeepWalkSkipGramEnsmallen\n",
    "from grape.embedders import WalkletsCBOWEnsmallen, WalkletsSkipGramEnsmallen"
   ],
   "metadata": {
    "collapsed": false,
    "ExecuteTime": {
     "end_time": "2023-10-31T10:49:15.814257Z",
     "start_time": "2023-10-31T10:49:10.652881Z"
    }
   },
   "id": "eef7787c791db720"
  },
  {
   "cell_type": "code",
   "execution_count": 2,
   "outputs": [
    {
     "data": {
      "text/plain": "<div class=\"graph-report\"><style>.graph-report li {margin: 0.5em 0 0.5em 0;}.graph-report .paragraph {text-align: justify;word-break: break-all;}.graph-report .small-columns {column-count: 4;column-gap: 2em;}.graph-report .medium-columns {column-count: 3;column-gap: 2em;}.graph-report .large-columns {column-count: 2;column-gap: 2em;}.graph-report .single-column {}@media only screen and (max-width: 600px) {.graph-report .small-columns {column-count: 1;}.graph-report .medium-columns {column-count: 1;}.graph-report .large-columns {column-count: 1;}}@media only screen and (min-width: 600px) and (max-width: 800px) {.graph-report .small-columns {column-count: 2;}.graph-report .medium-columns {column-count: 1;}.graph-report .large-columns {column-count: 1;}}@media only screen and (min-width: 800px) and (max-width: 1024px) {.graph-report .small-columns {column-count: 3;}.graph-report .medium-columns {column-count: 2;}.graph-report .large-columns {column-count: 1;}}</style><h2>KGIDG</h2><p class=\"paragraph\">The undirected multigraph KGIDG has 239.46K heterogeneous nodes and 1.01M heterogeneous edges. The graph is connected, that is, it is composed of a single connected component that includes all nodes and edges. The RAM requirements for the nodes and edges data structures are 28.57MB and 9.97MB respectively.</p><h3 style=\"margin: 1em 0 0 0;\">Degree centrality</h3><p class=\"paragraph\">The minimum node degree is 2, the maximum node degree is 9.36K, the mode degree is 2, the mean degree is 8.41 and the node degree median is 4.</p><p class=\"paragraph\">The nodes with the highest degree centrality are <a href='http://amigo.geneontology.org/amigo/term/GO:0065007' target='_blank' title='Go to Gene Ontology to get more informations about GO:0065007'>GO:0065007</a> (degree 9.36K and node types <a href='https://biolink.github.io/biolink-model/docs/BiologicalProcess.html' target='_blank' title='Go to BioLink to get more informations about biolink:BiologicalProcess'>biolink:BiologicalProcess</a> and <a href='https://biolink.github.io/biolink-model/docs/NamedThing.html' target='_blank' title='Go to BioLink to get more informations about biolink:NamedThing'>biolink:NamedThing</a>), <a href='https://www.ebi.ac.uk/chebi/searchId.do?chebiId=CHEBI:24995' target='_blank' title='Go to CHEBI to get more informations about CHEBI:24995'>CHEBI:24995</a> (degree 7.34K and node type <a href='https://biolink.github.io/biolink-model/docs/ChemicalSubstance.html' target='_blank' title='Go to BioLink to get more informations about biolink:ChemicalSubstance'>biolink:ChemicalSubstance</a>), <a href='https://www.ebi.ac.uk/chebi/searchId.do?chebiId=CHEBI:52898' target='_blank' title='Go to CHEBI to get more informations about CHEBI:52898'>CHEBI:52898</a> (degree 7.26K and node type <a href='https://biolink.github.io/biolink-model/docs/ChemicalSubstance.html' target='_blank' title='Go to BioLink to get more informations about biolink:ChemicalSubstance'>biolink:ChemicalSubstance</a>), <a href='https://www.ebi.ac.uk/chebi/searchId.do?chebiId=CHEBI:30616' target='_blank' title='Go to CHEBI to get more informations about CHEBI:30616'>CHEBI:30616</a> (degree 6.00K and node types <a href='https://biolink.github.io/biolink-model/docs/ChemicalSubstance.html' target='_blank' title='Go to BioLink to get more informations about biolink:ChemicalSubstance'>biolink:ChemicalSubstance</a> and <a href='https://biolink.github.io/biolink-model/docs/ChemicalEntity.html' target='_blank' title='Go to BioLink to get more informations about biolink:ChemicalEntity'>biolink:ChemicalEntity</a>) and <a href='https://www.ebi.ac.uk/chebi/searchId.do?chebiId=CHEBI:456216' target='_blank' title='Go to CHEBI to get more informations about CHEBI:456216'>CHEBI:456216</a> (degree 5.43K and node types <a href='https://biolink.github.io/biolink-model/docs/ChemicalSubstance.html' target='_blank' title='Go to BioLink to get more informations about biolink:ChemicalSubstance'>biolink:ChemicalSubstance</a> and <a href='https://biolink.github.io/biolink-model/docs/ChemicalEntity.html' target='_blank' title='Go to BioLink to get more informations about biolink:ChemicalEntity'>biolink:ChemicalEntity</a>).</p><h3 style=\"margin: 1em 0 0 0;\">Node types</h3><p class=\"paragraph\">The graph has 17 node types, of which the 10 most common are <a href='https://biolink.github.io/biolink-model/docs/ChemicalSubstance.html' target='_blank' title='Go to BioLink to get more informations about biolink:ChemicalSubstance'>biolink:ChemicalSubstance</a> (79.02K nodes, 33.00%), <a href='https://biolink.github.io/biolink-model/docs/Protein.html' target='_blank' title='Go to BioLink to get more informations about biolink:Protein'>biolink:Protein</a> (55.65K nodes, 23.24%), <a href='https://biolink.github.io/biolink-model/docs/BiologicalProcess.html' target='_blank' title='Go to BioLink to get more informations about biolink:BiologicalProcess'>biolink:BiologicalProcess</a> (25.73K nodes, 10.74%), <a href='https://biolink.github.io/biolink-model/docs/Pathway.html' target='_blank' title='Go to BioLink to get more informations about biolink:Pathway'>biolink:Pathway</a> (21.85K nodes, 9.13%), <a href='https://biolink.github.io/biolink-model/docs/Disease.html' target='_blank' title='Go to BioLink to get more informations about biolink:Disease'>biolink:Disease</a> (20.29K nodes, 8.47%), <a href='https://biolink.github.io/biolink-model/docs/NamedThing.html' target='_blank' title='Go to BioLink to get more informations about biolink:NamedThing'>biolink:NamedThing</a> (16.52K nodes, 6.90%), <a href='https://biolink.github.io/biolink-model/docs/PhenotypicFeature.html' target='_blank' title='Go to BioLink to get more informations about biolink:PhenotypicFeature'>biolink:PhenotypicFeature</a> (11.18K nodes, 4.67%), <a href='https://biolink.github.io/biolink-model/docs/AnatomicalEntity.html' target='_blank' title='Go to BioLink to get more informations about biolink:AnatomicalEntity'>biolink:AnatomicalEntity</a> (5.96K nodes, 2.49%), <a href='https://biolink.github.io/biolink-model/docs/MolecularActivity.html' target='_blank' title='Go to BioLink to get more informations about biolink:MolecularActivity'>biolink:MolecularActivity</a> (3.98K nodes, 1.66%) and <a href='https://biolink.github.io/biolink-model/docs/Drug.html' target='_blank' title='Go to BioLink to get more informations about biolink:Drug'>biolink:Drug</a> (3.41K nodes, 1.42%). The node types are multi-label, and the node with most node types has 3 node types. The RAM requirement for the node types data structure is 12.50MB.</p><h3 style=\"margin: 1em 0 0 0;\">Edge types</h3><p class=\"paragraph\">The graph has 56 edge types, of which the 10 most common are <a href='https://biolink.github.io/biolink-model/docs/participates_in.html' target='_blank' title='Go to BioLink to get more informations about biolink:participates_in'>biolink:participates_in</a> (744.72K edges, 36.97%), <a href='https://biolink.github.io/biolink-model/docs/subclass_of.html' target='_blank' title='Go to BioLink to get more informations about biolink:subclass_of'>biolink:subclass_of</a> (579.36K edges, 28.76%), <a href='https://biolink.github.io/biolink-model/docs/has_phenotype.html' target='_blank' title='Go to BioLink to get more informations about biolink:has_phenotype'>biolink:has_phenotype</a> (225.54K edges, 11.20%), <a href='https://biolink.github.io/biolink-model/docs/related_to.html' target='_blank' title='Go to BioLink to get more informations about biolink:related_to'>biolink:related_to</a> (94.31K edges, 4.68%), <a href='https://biolink.github.io/biolink-model/docs/has_attribute.html' target='_blank' title='Go to BioLink to get more informations about biolink:has_attribute'>biolink:has_attribute</a> (85.34K edges, 4.24%), <a href='https://biolink.github.io/biolink-model/docs/contraindicated_for.html' target='_blank' title='Go to BioLink to get more informations about biolink:contraindicated_for'>biolink:contraindicated_for</a> (53.27K edges, 2.64%), <a href='https://biolink.github.io/biolink-model/docs/contains_process.html' target='_blank' title='Go to BioLink to get more informations about biolink:contains_process'>biolink:contains_process</a> (43.97K edges, 2.18%), minority_edge (37.08K edges, 1.84%), <a href='https://biolink.github.io/biolink-model/docs/part_of.html' target='_blank' title='Go to BioLink to get more informations about biolink:part_of'>biolink:part_of</a> (31.00K edges, 1.54%) and <a href='https://biolink.github.io/biolink-model/docs/treats.html' target='_blank' title='Go to BioLink to get more informations about biolink:treats'>biolink:treats</a> (21.33K edges, 1.06%). The RAM requirement for the edge types data structure is 8.07MB.</p><h4 style=\"margin: 1em 0 0 0;\">Singleton edge types</h4><p class=\"paragraph\">Singleton edge types are edge types that are assigned exclusively to a single edge, making the edge type relatively meaningless, as it adds no more information than the name of edge itself. The graph contains 2 edges with singleton edge types, which are <a href='https://biolink.github.io/biolink-model/docs/diagnoses.html' target='_blank' title='Go to BioLink to get more informations about biolink:diagnoses'>biolink:diagnoses</a> and <a href='https://biolink.github.io/biolink-model/docs/model_of.html' target='_blank' title='Go to BioLink to get more informations about biolink:model_of'>biolink:model_of</a>. </p><h3 style=\"margin: 1em 0 0 0;\">Topological Oddities</h3><p class=\"paragraph\">A topological oddity is a set of nodes in the graph that <i>may be derived</i> by an error during the generation of the edge list of the graph and, depending on the task, could bias the results of topology-based models. In the following paragraph, we will describe the detected topological oddities.</p><h4 style=\"margin: 1em 0 0 0;\">Chains</h4><p class=\"paragraph\">A chain is a path of nodes with unique degree 2, that is ignoring self-loop and multi-edges, connecting two strongly connected components of the graph. We have detected 2 chains in the graph, involving a total of 20 nodes and 19 edges, with the largest one involving 10 nodes and 9 edges. The detected chains, sorted by decreasing size, are:</p><ol class=\"medium-columns\"><li><p class=\"paragraph\">Chain containing 10 nodes and starts from the node <a href='https://www.ncbi.nlm.nih.gov/taxonomy/?term=35493' target='_blank' title='Go to NCBI Taxonomy to get more informations about NCBITaxon:35493'>NCBITaxon:35493</a>. Specifically, the nodes involved in the chain are: <a href='https://www.ncbi.nlm.nih.gov/taxonomy/?term=131221' target='_blank' title='Go to NCBI Taxonomy to get more informations about NCBITaxon:131221'>NCBITaxon:131221</a>, <a href='https://www.ncbi.nlm.nih.gov/taxonomy/?term=3193' target='_blank' title='Go to NCBI Taxonomy to get more informations about NCBITaxon:3193'>NCBITaxon:3193</a>, <a href='https://www.ncbi.nlm.nih.gov/taxonomy/?term=58023' target='_blank' title='Go to NCBI Taxonomy to get more informations about NCBITaxon:58023'>NCBITaxon:58023</a>, <a href='https://www.ncbi.nlm.nih.gov/taxonomy/?term=78536' target='_blank' title='Go to NCBI Taxonomy to get more informations about NCBITaxon:78536'>NCBITaxon:78536</a>, <a href='https://www.ncbi.nlm.nih.gov/taxonomy/?term=241806' target='_blank' title='Go to NCBI Taxonomy to get more informations about NCBITaxon:241806'>NCBITaxon:241806</a> and other 4. Its nodes have a single node type, which is <a href='https://biolink.github.io/biolink-model/docs/OrganismalEntity.html' target='_blank' title='Go to BioLink to get more informations about biolink:OrganismalEntity'>biolink:OrganismalEntity</a>. Its edges have 2 edge types, which are <a href='https://biolink.github.io/biolink-model/docs/subclass_of.html' target='_blank' title='Go to BioLink to get more informations about biolink:subclass_of'>biolink:subclass_of</a> (19 edges, 95.00%) and <a href='https://biolink.github.io/biolink-model/docs/related_to.html' target='_blank' title='Go to BioLink to get more informations about biolink:related_to'>biolink:related_to</a>.</p></li>\n<li><p class=\"paragraph\">Chain containing 10 nodes and starts from the node <a href='https://www.ncbi.nlm.nih.gov/taxonomy/?term=70999' target='_blank' title='Go to NCBI Taxonomy to get more informations about NCBITaxon:70999'>NCBITaxon:70999</a>. Specifically, the nodes involved in the chain are: <a href='https://www.ncbi.nlm.nih.gov/taxonomy/?term=27479' target='_blank' title='Go to NCBI Taxonomy to get more informations about NCBITaxon:27479'>NCBITaxon:27479</a>, <a href='https://www.ncbi.nlm.nih.gov/taxonomy/?term=33356' target='_blank' title='Go to NCBI Taxonomy to get more informations about NCBITaxon:33356'>NCBITaxon:33356</a>, <a href='https://www.ncbi.nlm.nih.gov/taxonomy/?term=33354' target='_blank' title='Go to NCBI Taxonomy to get more informations about NCBITaxon:33354'>NCBITaxon:33354</a>, <a href='https://www.ncbi.nlm.nih.gov/taxonomy/?term=33351' target='_blank' title='Go to NCBI Taxonomy to get more informations about NCBITaxon:33351'>NCBITaxon:33351</a>, <a href='https://www.ncbi.nlm.nih.gov/taxonomy/?term=33349' target='_blank' title='Go to NCBI Taxonomy to get more informations about NCBITaxon:33349'>NCBITaxon:33349</a> and other 4. Its nodes have a single node type, which is <a href='https://biolink.github.io/biolink-model/docs/OrganismalEntity.html' target='_blank' title='Go to BioLink to get more informations about biolink:OrganismalEntity'>biolink:OrganismalEntity</a>. Its edges have 2 edge types, which are <a href='https://biolink.github.io/biolink-model/docs/subclass_of.html' target='_blank' title='Go to BioLink to get more informations about biolink:subclass_of'>biolink:subclass_of</a> (19 edges, 95.00%) and <a href='https://biolink.github.io/biolink-model/docs/related_to.html' target='_blank' title='Go to BioLink to get more informations about biolink:related_to'>biolink:related_to</a>.</p></li></ol><h4 style=\"margin: 1em 0 0 0;\">Isomorphic node groups</h4><p class=\"paragraph\">Isomorphic node groups are nodes with exactly the same neighbours, node types, edge types and weights (if present in the graph). Nodes in such groups are topologically indistinguishable, that is swapping their ID would not change the graph topology. We have detected 673 isomorphic node groups in the graph, involving a total of 3.40K nodes (1.42%) and 69.02K edges (3.43%), with the largest one involving 114 nodes and 1.82K edges. The detected isomorphic node groups, sorted by decreasing size, are:</p><ol class=\"medium-columns\"><li><p class=\"paragraph\">Group with 114 nodes (degree 16 and node type <a href='https://biolink.github.io/biolink-model/docs/Protein.html' target='_blank' title='Go to BioLink to get more informations about biolink:Protein'>biolink:Protein</a>): <a href='https://www.uniprot.org/uniprot/A0A075B5U4' target='_blank' title='Go to UniProtKB to get more informations about UniProtKB:A0A075B5U4'>UniProtKB:A0A075B5U4</a>, <a href='https://www.uniprot.org/uniprot/A0A140T8P9' target='_blank' title='Go to UniProtKB to get more informations about UniProtKB:A0A140T8P9'>UniProtKB:A0A140T8P9</a>, <a href='https://www.uniprot.org/uniprot/A0A0A6YXQ0' target='_blank' title='Go to UniProtKB to get more informations about UniProtKB:A0A0A6YXQ0'>UniProtKB:A0A0A6YXQ0</a>, <a href='https://www.uniprot.org/uniprot/A0A0B4J1H6' target='_blank' title='Go to UniProtKB to get more informations about UniProtKB:A0A0B4J1H6'>UniProtKB:A0A0B4J1H6</a>, <a href='https://www.uniprot.org/uniprot/A0A0B4J1H8' target='_blank' title='Go to UniProtKB to get more informations about UniProtKB:A0A0B4J1H8'>UniProtKB:A0A0B4J1H8</a> and other 109.</p></li>\n<li><p class=\"paragraph\">Group with 97 nodes (degree 16 and node type <a href='https://biolink.github.io/biolink-model/docs/Protein.html' target='_blank' title='Go to BioLink to get more informations about biolink:Protein'>biolink:Protein</a>): <a href='https://www.uniprot.org/uniprot/A0A5F4D6U3' target='_blank' title='Go to UniProtKB to get more informations about UniProtKB:A0A5F4D6U3'>UniProtKB:A0A5F4D6U3</a>, <a href='https://www.uniprot.org/uniprot/H9GWR0' target='_blank' title='Go to UniProtKB to get more informations about UniProtKB:H9GWR0'>UniProtKB:H9GWR0</a>, <a href='https://www.uniprot.org/uniprot/A0A5F4CSD5' target='_blank' title='Go to UniProtKB to get more informations about UniProtKB:A0A5F4CSD5'>UniProtKB:A0A5F4CSD5</a>, <a href='https://www.uniprot.org/uniprot/A0A5F4D5I3' target='_blank' title='Go to UniProtKB to get more informations about UniProtKB:A0A5F4D5I3'>UniProtKB:A0A5F4D5I3</a>, <a href='https://www.uniprot.org/uniprot/E2R8C5' target='_blank' title='Go to UniProtKB to get more informations about UniProtKB:E2R8C5'>UniProtKB:E2R8C5</a> and other 92.</p></li>\n<li><p class=\"paragraph\">Group with 81 nodes (degree 16 and node type <a href='https://biolink.github.io/biolink-model/docs/Protein.html' target='_blank' title='Go to BioLink to get more informations about biolink:Protein'>biolink:Protein</a>): <a href='https://www.uniprot.org/uniprot/D3ZE07' target='_blank' title='Go to UniProtKB to get more informations about UniProtKB:D3ZE07'>UniProtKB:D3ZE07</a>, <a href='https://www.uniprot.org/uniprot/A0A0G2K9Z5' target='_blank' title='Go to UniProtKB to get more informations about UniProtKB:A0A0G2K9Z5'>UniProtKB:A0A0G2K9Z5</a>, <a href='https://www.uniprot.org/uniprot/A0A0G2K9W1' target='_blank' title='Go to UniProtKB to get more informations about UniProtKB:A0A0G2K9W1'>UniProtKB:A0A0G2K9W1</a>, <a href='https://www.uniprot.org/uniprot/A0A0G2K9L1' target='_blank' title='Go to UniProtKB to get more informations about UniProtKB:A0A0G2K9L1'>UniProtKB:A0A0G2K9L1</a>, <a href='https://www.uniprot.org/uniprot/A0A0G2K5X3' target='_blank' title='Go to UniProtKB to get more informations about UniProtKB:A0A0G2K5X3'>UniProtKB:A0A0G2K5X3</a> and other 76.</p></li>\n<li><p class=\"paragraph\">Group with 26 nodes (degree 48 and node type <a href='https://biolink.github.io/biolink-model/docs/Protein.html' target='_blank' title='Go to BioLink to get more informations about biolink:Protein'>biolink:Protein</a>): <a href='https://www.uniprot.org/uniprot/A0A5F4D079' target='_blank' title='Go to UniProtKB to get more informations about UniProtKB:A0A5F4D079'>UniProtKB:A0A5F4D079</a>, <a href='https://www.uniprot.org/uniprot/E2R3R2' target='_blank' title='Go to UniProtKB to get more informations about UniProtKB:E2R3R2'>UniProtKB:E2R3R2</a>, <a href='https://www.uniprot.org/uniprot/A0A5F4C8R9' target='_blank' title='Go to UniProtKB to get more informations about UniProtKB:A0A5F4C8R9'>UniProtKB:A0A5F4C8R9</a>, <a href='https://www.uniprot.org/uniprot/E2R0R1' target='_blank' title='Go to UniProtKB to get more informations about UniProtKB:E2R0R1'>UniProtKB:E2R0R1</a>, <a href='https://www.uniprot.org/uniprot/E2R0B6' target='_blank' title='Go to UniProtKB to get more informations about UniProtKB:E2R0B6'>UniProtKB:E2R0B6</a> and other 21.</p></li>\n<li><p class=\"paragraph\">Group with 24 nodes (degree 48 and node type <a href='https://biolink.github.io/biolink-model/docs/Protein.html' target='_blank' title='Go to BioLink to get more informations about biolink:Protein'>biolink:Protein</a>): <a href='https://www.uniprot.org/uniprot/P62334' target='_blank' title='Go to UniProtKB to get more informations about UniProtKB:P62334'>UniProtKB:P62334</a>, <a href='https://www.uniprot.org/uniprot/Q9R1P4' target='_blank' title='Go to UniProtKB to get more informations about UniProtKB:Q9R1P4'>UniProtKB:Q9R1P4</a>, <a href='https://www.uniprot.org/uniprot/Q9CR00' target='_blank' title='Go to UniProtKB to get more informations about UniProtKB:Q9CR00'>UniProtKB:Q9CR00</a>, <a href='https://www.uniprot.org/uniprot/O35226' target='_blank' title='Go to UniProtKB to get more informations about UniProtKB:O35226'>UniProtKB:O35226</a>, <a href='https://www.uniprot.org/uniprot/P28076' target='_blank' title='Go to UniProtKB to get more informations about UniProtKB:P28076'>UniProtKB:P28076</a> and other 19.</p></li>\n<li><p class=\"paragraph\">Group with 26 nodes (degree 44 and node type <a href='https://biolink.github.io/biolink-model/docs/Protein.html' target='_blank' title='Go to BioLink to get more informations about biolink:Protein'>biolink:Protein</a>): <a href='https://www.uniprot.org/uniprot/P18420' target='_blank' title='Go to UniProtKB to get more informations about UniProtKB:P18420'>UniProtKB:P18420</a>, <a href='https://www.uniprot.org/uniprot/Q9WTV5' target='_blank' title='Go to UniProtKB to get more informations about UniProtKB:Q9WTV5'>UniProtKB:Q9WTV5</a>, <a href='https://www.uniprot.org/uniprot/P34067' target='_blank' title='Go to UniProtKB to get more informations about UniProtKB:P34067'>UniProtKB:P34067</a>, <a href='https://www.uniprot.org/uniprot/Q63797' target='_blank' title='Go to UniProtKB to get more informations about UniProtKB:Q63797'>UniProtKB:Q63797</a>, <a href='https://www.uniprot.org/uniprot/Q5FVM2' target='_blank' title='Go to UniProtKB to get more informations about UniProtKB:Q5FVM2'>UniProtKB:Q5FVM2</a> and other 21.</p></li>\n<li><p class=\"paragraph\">Group with 24 nodes (degree 47 and node type <a href='https://biolink.github.io/biolink-model/docs/Protein.html' target='_blank' title='Go to BioLink to get more informations about biolink:Protein'>biolink:Protein</a>): <a href='https://www.uniprot.org/uniprot/F1MYH8' target='_blank' title='Go to UniProtKB to get more informations about UniProtKB:F1MYH8'>UniProtKB:F1MYH8</a>, <a href='https://www.uniprot.org/uniprot/Q3MHN0' target='_blank' title='Go to UniProtKB to get more informations about UniProtKB:Q3MHN0'>UniProtKB:Q3MHN0</a>, <a href='https://www.uniprot.org/uniprot/Q3T108' target='_blank' title='Go to UniProtKB to get more informations about UniProtKB:Q3T108'>UniProtKB:Q3T108</a>, <a href='https://www.uniprot.org/uniprot/Q2KJE7' target='_blank' title='Go to UniProtKB to get more informations about UniProtKB:Q2KJE7'>UniProtKB:Q2KJE7</a>, <a href='https://www.uniprot.org/uniprot/Q58DU5' target='_blank' title='Go to UniProtKB to get more informations about UniProtKB:Q58DU5'>UniProtKB:Q58DU5</a> and other 19.</p></li>\n<li><p class=\"paragraph\">Group with 23 nodes (degree 48 and node type <a href='https://biolink.github.io/biolink-model/docs/Protein.html' target='_blank' title='Go to BioLink to get more informations about biolink:Protein'>biolink:Protein</a>): <a href='https://www.uniprot.org/uniprot/A0A287BG14' target='_blank' title='Go to UniProtKB to get more informations about UniProtKB:A0A287BG14'>UniProtKB:A0A287BG14</a>, <a href='https://www.uniprot.org/uniprot/A0A287BRR7' target='_blank' title='Go to UniProtKB to get more informations about UniProtKB:A0A287BRR7'>UniProtKB:A0A287BRR7</a>, <a href='https://www.uniprot.org/uniprot/A0A287BRV0' target='_blank' title='Go to UniProtKB to get more informations about UniProtKB:A0A287BRV0'>UniProtKB:A0A287BRV0</a>, <a href='https://www.uniprot.org/uniprot/A0A287BTN9' target='_blank' title='Go to UniProtKB to get more informations about UniProtKB:A0A287BTN9'>UniProtKB:A0A287BTN9</a>, <a href='https://www.uniprot.org/uniprot/A0A288CG47' target='_blank' title='Go to UniProtKB to get more informations about UniProtKB:A0A288CG47'>UniProtKB:A0A288CG47</a> and other 18.</p></li>\n<li><p class=\"paragraph\">Group with 58 nodes (degree 19 and node type <a href='https://biolink.github.io/biolink-model/docs/Protein.html' target='_blank' title='Go to BioLink to get more informations about biolink:Protein'>biolink:Protein</a>): <a href='https://www.uniprot.org/uniprot/P01743' target='_blank' title='Go to UniProtKB to get more informations about UniProtKB:P01743'>UniProtKB:P01743</a>, <a href='https://www.uniprot.org/uniprot/A0A0C4DH73' target='_blank' title='Go to UniProtKB to get more informations about UniProtKB:A0A0C4DH73'>UniProtKB:A0A0C4DH73</a>, <a href='https://www.uniprot.org/uniprot/P06310' target='_blank' title='Go to UniProtKB to get more informations about UniProtKB:P06310'>UniProtKB:P06310</a>, <a href='https://www.uniprot.org/uniprot/P01615' target='_blank' title='Go to UniProtKB to get more informations about UniProtKB:P01615'>UniProtKB:P01615</a>, <a href='https://www.uniprot.org/uniprot/A2NXD2' target='_blank' title='Go to UniProtKB to get more informations about UniProtKB:A2NXD2'>UniProtKB:A2NXD2</a> and other 53.</p></li>\n<li><p class=\"paragraph\">Group with 24 nodes (degree 44 and node type <a href='https://biolink.github.io/biolink-model/docs/Protein.html' target='_blank' title='Go to BioLink to get more informations about biolink:Protein'>biolink:Protein</a>): <a href='https://www.uniprot.org/uniprot/Q9PTH5' target='_blank' title='Go to UniProtKB to get more informations about UniProtKB:Q9PTH5'>UniProtKB:Q9PTH5</a>, <a href='https://www.uniprot.org/uniprot/A0A2R8PYA0' target='_blank' title='Go to UniProtKB to get more informations about UniProtKB:A0A2R8PYA0'>UniProtKB:A0A2R8PYA0</a>, <a href='https://www.uniprot.org/uniprot/A0A2R8QBI3' target='_blank' title='Go to UniProtKB to get more informations about UniProtKB:A0A2R8QBI3'>UniProtKB:A0A2R8QBI3</a>, <a href='https://www.uniprot.org/uniprot/Q7ZV77' target='_blank' title='Go to UniProtKB to get more informations about UniProtKB:Q7ZV77'>UniProtKB:Q7ZV77</a>, <a href='https://www.uniprot.org/uniprot/Q6IQH4' target='_blank' title='Go to UniProtKB to get more informations about UniProtKB:Q6IQH4'>UniProtKB:Q6IQH4</a> and other 19.</p></li>\n<li><p class=\"paragraph\">Group with 33 nodes (degree 29 and node type <a href='https://biolink.github.io/biolink-model/docs/Protein.html' target='_blank' title='Go to BioLink to get more informations about biolink:Protein'>biolink:Protein</a>): <a href='https://www.uniprot.org/uniprot/F2Z4F9' target='_blank' title='Go to UniProtKB to get more informations about UniProtKB:F2Z4F9'>UniProtKB:F2Z4F9</a>, <a href='https://www.uniprot.org/uniprot/G3N0F3' target='_blank' title='Go to UniProtKB to get more informations about UniProtKB:G3N0F3'>UniProtKB:G3N0F3</a>, <a href='https://www.uniprot.org/uniprot/G5E6T5' target='_blank' title='Go to UniProtKB to get more informations about UniProtKB:G5E6T5'>UniProtKB:G5E6T5</a>, <a href='https://www.uniprot.org/uniprot/G3N0L9' target='_blank' title='Go to UniProtKB to get more informations about UniProtKB:G3N0L9'>UniProtKB:G3N0L9</a>, <a href='https://www.uniprot.org/uniprot/G3N1G0' target='_blank' title='Go to UniProtKB to get more informations about UniProtKB:G3N1G0'>UniProtKB:G3N1G0</a> and other 28.</p></li>\n<li><p class=\"paragraph\">Group with 84 nodes (degree 11 and node type <a href='https://biolink.github.io/biolink-model/docs/Protein.html' target='_blank' title='Go to BioLink to get more informations about biolink:Protein'>biolink:Protein</a>): <a href='https://www.uniprot.org/uniprot/A0A3Q2TRZ7' target='_blank' title='Go to UniProtKB to get more informations about UniProtKB:A0A3Q2TRZ7'>UniProtKB:A0A3Q2TRZ7</a>, <a href='https://www.uniprot.org/uniprot/A0A3Q2TT43' target='_blank' title='Go to UniProtKB to get more informations about UniProtKB:A0A3Q2TT43'>UniProtKB:A0A3Q2TT43</a>, <a href='https://www.uniprot.org/uniprot/A0A3Q2TTN1' target='_blank' title='Go to UniProtKB to get more informations about UniProtKB:A0A3Q2TTN1'>UniProtKB:A0A3Q2TTN1</a>, <a href='https://www.uniprot.org/uniprot/A0A3Q2TTU9' target='_blank' title='Go to UniProtKB to get more informations about UniProtKB:A0A3Q2TTU9'>UniProtKB:A0A3Q2TTU9</a>, <a href='https://www.uniprot.org/uniprot/A0A3Q2TUE3' target='_blank' title='Go to UniProtKB to get more informations about UniProtKB:A0A3Q2TUE3'>UniProtKB:A0A3Q2TUE3</a> and other 79.</p></li>\n<li><p class=\"paragraph\">Group with 14 nodes (degree 49 and node type <a href='https://biolink.github.io/biolink-model/docs/Protein.html' target='_blank' title='Go to BioLink to get more informations about biolink:Protein'>biolink:Protein</a>): <a href='https://www.uniprot.org/uniprot/Q99JI4' target='_blank' title='Go to UniProtKB to get more informations about UniProtKB:Q99JI4'>UniProtKB:Q99JI4</a>, <a href='https://www.uniprot.org/uniprot/Q9D8W5' target='_blank' title='Go to UniProtKB to get more informations about UniProtKB:Q9D8W5'>UniProtKB:Q9D8W5</a>, <a href='https://www.uniprot.org/uniprot/O09061' target='_blank' title='Go to UniProtKB to get more informations about UniProtKB:O09061'>UniProtKB:O09061</a>, <a href='https://www.uniprot.org/uniprot/Q9Z2U1' target='_blank' title='Go to UniProtKB to get more informations about UniProtKB:Q9Z2U1'>UniProtKB:Q9Z2U1</a>, <a href='https://www.uniprot.org/uniprot/Q9WVJ2' target='_blank' title='Go to UniProtKB to get more informations about UniProtKB:Q9WVJ2'>UniProtKB:Q9WVJ2</a> and other 9.</p></li>\n<li><p class=\"paragraph\">Group with 13 nodes (degree 52 and node type <a href='https://biolink.github.io/biolink-model/docs/Protein.html' target='_blank' title='Go to BioLink to get more informations about biolink:Protein'>biolink:Protein</a>): <a href='https://www.uniprot.org/uniprot/Q9V3P6' target='_blank' title='Go to UniProtKB to get more informations about UniProtKB:Q9V3P6'>UniProtKB:Q9V3P6</a>, <a href='https://www.uniprot.org/uniprot/Q9VW54' target='_blank' title='Go to UniProtKB to get more informations about UniProtKB:Q9VW54'>UniProtKB:Q9VW54</a>, <a href='https://www.uniprot.org/uniprot/Q7KMQ0' target='_blank' title='Go to UniProtKB to get more informations about UniProtKB:Q7KMQ0'>UniProtKB:Q7KMQ0</a>, <a href='https://www.uniprot.org/uniprot/Q7KMP8' target='_blank' title='Go to UniProtKB to get more informations about UniProtKB:Q7KMP8'>UniProtKB:Q7KMP8</a>, <a href='https://www.uniprot.org/uniprot/Q7KLV9' target='_blank' title='Go to UniProtKB to get more informations about UniProtKB:Q7KLV9'>UniProtKB:Q7KLV9</a> and other 8.</p></li>\n<li><p class=\"paragraph\">Group with 14 nodes (degree 48 and node type <a href='https://biolink.github.io/biolink-model/docs/Protein.html' target='_blank' title='Go to BioLink to get more informations about biolink:Protein'>biolink:Protein</a>): <a href='https://www.uniprot.org/uniprot/Q5E9F9' target='_blank' title='Go to UniProtKB to get more informations about UniProtKB:Q5E9F9'>UniProtKB:Q5E9F9</a>, <a href='https://www.uniprot.org/uniprot/F1MBI1' target='_blank' title='Go to UniProtKB to get more informations about UniProtKB:F1MBI1'>UniProtKB:F1MBI1</a>, <a href='https://www.uniprot.org/uniprot/Q5E964' target='_blank' title='Go to UniProtKB to get more informations about UniProtKB:Q5E964'>UniProtKB:Q5E964</a>, <a href='https://www.uniprot.org/uniprot/Q5E987' target='_blank' title='Go to UniProtKB to get more informations about UniProtKB:Q5E987'>UniProtKB:Q5E987</a>, <a href='https://www.uniprot.org/uniprot/P56701' target='_blank' title='Go to UniProtKB to get more informations about UniProtKB:P56701'>UniProtKB:P56701</a> and other 9.</p></li></ol><p class=\"paragraph\">And other 658 isomorphic node groups.</p></div>",
      "text/html": "<div class=\"graph-report\"><style>.graph-report li {margin: 0.5em 0 0.5em 0;}.graph-report .paragraph {text-align: justify;word-break: break-all;}.graph-report .small-columns {column-count: 4;column-gap: 2em;}.graph-report .medium-columns {column-count: 3;column-gap: 2em;}.graph-report .large-columns {column-count: 2;column-gap: 2em;}.graph-report .single-column {}@media only screen and (max-width: 600px) {.graph-report .small-columns {column-count: 1;}.graph-report .medium-columns {column-count: 1;}.graph-report .large-columns {column-count: 1;}}@media only screen and (min-width: 600px) and (max-width: 800px) {.graph-report .small-columns {column-count: 2;}.graph-report .medium-columns {column-count: 1;}.graph-report .large-columns {column-count: 1;}}@media only screen and (min-width: 800px) and (max-width: 1024px) {.graph-report .small-columns {column-count: 3;}.graph-report .medium-columns {column-count: 2;}.graph-report .large-columns {column-count: 1;}}</style><h2>KGIDG</h2><p class=\"paragraph\">The undirected multigraph KGIDG has 239.46K heterogeneous nodes and 1.01M heterogeneous edges. The graph is connected, that is, it is composed of a single connected component that includes all nodes and edges. The RAM requirements for the nodes and edges data structures are 28.57MB and 9.97MB respectively.</p><h3 style=\"margin: 1em 0 0 0;\">Degree centrality</h3><p class=\"paragraph\">The minimum node degree is 2, the maximum node degree is 9.36K, the mode degree is 2, the mean degree is 8.41 and the node degree median is 4.</p><p class=\"paragraph\">The nodes with the highest degree centrality are <a href='http://amigo.geneontology.org/amigo/term/GO:0065007' target='_blank' title='Go to Gene Ontology to get more informations about GO:0065007'>GO:0065007</a> (degree 9.36K and node types <a href='https://biolink.github.io/biolink-model/docs/BiologicalProcess.html' target='_blank' title='Go to BioLink to get more informations about biolink:BiologicalProcess'>biolink:BiologicalProcess</a> and <a href='https://biolink.github.io/biolink-model/docs/NamedThing.html' target='_blank' title='Go to BioLink to get more informations about biolink:NamedThing'>biolink:NamedThing</a>), <a href='https://www.ebi.ac.uk/chebi/searchId.do?chebiId=CHEBI:24995' target='_blank' title='Go to CHEBI to get more informations about CHEBI:24995'>CHEBI:24995</a> (degree 7.34K and node type <a href='https://biolink.github.io/biolink-model/docs/ChemicalSubstance.html' target='_blank' title='Go to BioLink to get more informations about biolink:ChemicalSubstance'>biolink:ChemicalSubstance</a>), <a href='https://www.ebi.ac.uk/chebi/searchId.do?chebiId=CHEBI:52898' target='_blank' title='Go to CHEBI to get more informations about CHEBI:52898'>CHEBI:52898</a> (degree 7.26K and node type <a href='https://biolink.github.io/biolink-model/docs/ChemicalSubstance.html' target='_blank' title='Go to BioLink to get more informations about biolink:ChemicalSubstance'>biolink:ChemicalSubstance</a>), <a href='https://www.ebi.ac.uk/chebi/searchId.do?chebiId=CHEBI:30616' target='_blank' title='Go to CHEBI to get more informations about CHEBI:30616'>CHEBI:30616</a> (degree 6.00K and node types <a href='https://biolink.github.io/biolink-model/docs/ChemicalSubstance.html' target='_blank' title='Go to BioLink to get more informations about biolink:ChemicalSubstance'>biolink:ChemicalSubstance</a> and <a href='https://biolink.github.io/biolink-model/docs/ChemicalEntity.html' target='_blank' title='Go to BioLink to get more informations about biolink:ChemicalEntity'>biolink:ChemicalEntity</a>) and <a href='https://www.ebi.ac.uk/chebi/searchId.do?chebiId=CHEBI:456216' target='_blank' title='Go to CHEBI to get more informations about CHEBI:456216'>CHEBI:456216</a> (degree 5.43K and node types <a href='https://biolink.github.io/biolink-model/docs/ChemicalSubstance.html' target='_blank' title='Go to BioLink to get more informations about biolink:ChemicalSubstance'>biolink:ChemicalSubstance</a> and <a href='https://biolink.github.io/biolink-model/docs/ChemicalEntity.html' target='_blank' title='Go to BioLink to get more informations about biolink:ChemicalEntity'>biolink:ChemicalEntity</a>).</p><h3 style=\"margin: 1em 0 0 0;\">Node types</h3><p class=\"paragraph\">The graph has 17 node types, of which the 10 most common are <a href='https://biolink.github.io/biolink-model/docs/ChemicalSubstance.html' target='_blank' title='Go to BioLink to get more informations about biolink:ChemicalSubstance'>biolink:ChemicalSubstance</a> (79.02K nodes, 33.00%), <a href='https://biolink.github.io/biolink-model/docs/Protein.html' target='_blank' title='Go to BioLink to get more informations about biolink:Protein'>biolink:Protein</a> (55.65K nodes, 23.24%), <a href='https://biolink.github.io/biolink-model/docs/BiologicalProcess.html' target='_blank' title='Go to BioLink to get more informations about biolink:BiologicalProcess'>biolink:BiologicalProcess</a> (25.73K nodes, 10.74%), <a href='https://biolink.github.io/biolink-model/docs/Pathway.html' target='_blank' title='Go to BioLink to get more informations about biolink:Pathway'>biolink:Pathway</a> (21.85K nodes, 9.13%), <a href='https://biolink.github.io/biolink-model/docs/Disease.html' target='_blank' title='Go to BioLink to get more informations about biolink:Disease'>biolink:Disease</a> (20.29K nodes, 8.47%), <a href='https://biolink.github.io/biolink-model/docs/NamedThing.html' target='_blank' title='Go to BioLink to get more informations about biolink:NamedThing'>biolink:NamedThing</a> (16.52K nodes, 6.90%), <a href='https://biolink.github.io/biolink-model/docs/PhenotypicFeature.html' target='_blank' title='Go to BioLink to get more informations about biolink:PhenotypicFeature'>biolink:PhenotypicFeature</a> (11.18K nodes, 4.67%), <a href='https://biolink.github.io/biolink-model/docs/AnatomicalEntity.html' target='_blank' title='Go to BioLink to get more informations about biolink:AnatomicalEntity'>biolink:AnatomicalEntity</a> (5.96K nodes, 2.49%), <a href='https://biolink.github.io/biolink-model/docs/MolecularActivity.html' target='_blank' title='Go to BioLink to get more informations about biolink:MolecularActivity'>biolink:MolecularActivity</a> (3.98K nodes, 1.66%) and <a href='https://biolink.github.io/biolink-model/docs/Drug.html' target='_blank' title='Go to BioLink to get more informations about biolink:Drug'>biolink:Drug</a> (3.41K nodes, 1.42%). The node types are multi-label, and the node with most node types has 3 node types. The RAM requirement for the node types data structure is 12.50MB.</p><h3 style=\"margin: 1em 0 0 0;\">Edge types</h3><p class=\"paragraph\">The graph has 56 edge types, of which the 10 most common are <a href='https://biolink.github.io/biolink-model/docs/participates_in.html' target='_blank' title='Go to BioLink to get more informations about biolink:participates_in'>biolink:participates_in</a> (744.72K edges, 36.97%), <a href='https://biolink.github.io/biolink-model/docs/subclass_of.html' target='_blank' title='Go to BioLink to get more informations about biolink:subclass_of'>biolink:subclass_of</a> (579.36K edges, 28.76%), <a href='https://biolink.github.io/biolink-model/docs/has_phenotype.html' target='_blank' title='Go to BioLink to get more informations about biolink:has_phenotype'>biolink:has_phenotype</a> (225.54K edges, 11.20%), <a href='https://biolink.github.io/biolink-model/docs/related_to.html' target='_blank' title='Go to BioLink to get more informations about biolink:related_to'>biolink:related_to</a> (94.31K edges, 4.68%), <a href='https://biolink.github.io/biolink-model/docs/has_attribute.html' target='_blank' title='Go to BioLink to get more informations about biolink:has_attribute'>biolink:has_attribute</a> (85.34K edges, 4.24%), <a href='https://biolink.github.io/biolink-model/docs/contraindicated_for.html' target='_blank' title='Go to BioLink to get more informations about biolink:contraindicated_for'>biolink:contraindicated_for</a> (53.27K edges, 2.64%), <a href='https://biolink.github.io/biolink-model/docs/contains_process.html' target='_blank' title='Go to BioLink to get more informations about biolink:contains_process'>biolink:contains_process</a> (43.97K edges, 2.18%), minority_edge (37.08K edges, 1.84%), <a href='https://biolink.github.io/biolink-model/docs/part_of.html' target='_blank' title='Go to BioLink to get more informations about biolink:part_of'>biolink:part_of</a> (31.00K edges, 1.54%) and <a href='https://biolink.github.io/biolink-model/docs/treats.html' target='_blank' title='Go to BioLink to get more informations about biolink:treats'>biolink:treats</a> (21.33K edges, 1.06%). The RAM requirement for the edge types data structure is 8.07MB.</p><h4 style=\"margin: 1em 0 0 0;\">Singleton edge types</h4><p class=\"paragraph\">Singleton edge types are edge types that are assigned exclusively to a single edge, making the edge type relatively meaningless, as it adds no more information than the name of edge itself. The graph contains 2 edges with singleton edge types, which are <a href='https://biolink.github.io/biolink-model/docs/diagnoses.html' target='_blank' title='Go to BioLink to get more informations about biolink:diagnoses'>biolink:diagnoses</a> and <a href='https://biolink.github.io/biolink-model/docs/model_of.html' target='_blank' title='Go to BioLink to get more informations about biolink:model_of'>biolink:model_of</a>. </p><h3 style=\"margin: 1em 0 0 0;\">Topological Oddities</h3><p class=\"paragraph\">A topological oddity is a set of nodes in the graph that <i>may be derived</i> by an error during the generation of the edge list of the graph and, depending on the task, could bias the results of topology-based models. In the following paragraph, we will describe the detected topological oddities.</p><h4 style=\"margin: 1em 0 0 0;\">Chains</h4><p class=\"paragraph\">A chain is a path of nodes with unique degree 2, that is ignoring self-loop and multi-edges, connecting two strongly connected components of the graph. We have detected 2 chains in the graph, involving a total of 20 nodes and 19 edges, with the largest one involving 10 nodes and 9 edges. The detected chains, sorted by decreasing size, are:</p><ol class=\"medium-columns\"><li><p class=\"paragraph\">Chain containing 10 nodes and starts from the node <a href='https://www.ncbi.nlm.nih.gov/taxonomy/?term=35493' target='_blank' title='Go to NCBI Taxonomy to get more informations about NCBITaxon:35493'>NCBITaxon:35493</a>. Specifically, the nodes involved in the chain are: <a href='https://www.ncbi.nlm.nih.gov/taxonomy/?term=131221' target='_blank' title='Go to NCBI Taxonomy to get more informations about NCBITaxon:131221'>NCBITaxon:131221</a>, <a href='https://www.ncbi.nlm.nih.gov/taxonomy/?term=3193' target='_blank' title='Go to NCBI Taxonomy to get more informations about NCBITaxon:3193'>NCBITaxon:3193</a>, <a href='https://www.ncbi.nlm.nih.gov/taxonomy/?term=58023' target='_blank' title='Go to NCBI Taxonomy to get more informations about NCBITaxon:58023'>NCBITaxon:58023</a>, <a href='https://www.ncbi.nlm.nih.gov/taxonomy/?term=78536' target='_blank' title='Go to NCBI Taxonomy to get more informations about NCBITaxon:78536'>NCBITaxon:78536</a>, <a href='https://www.ncbi.nlm.nih.gov/taxonomy/?term=241806' target='_blank' title='Go to NCBI Taxonomy to get more informations about NCBITaxon:241806'>NCBITaxon:241806</a> and other 4. Its nodes have a single node type, which is <a href='https://biolink.github.io/biolink-model/docs/OrganismalEntity.html' target='_blank' title='Go to BioLink to get more informations about biolink:OrganismalEntity'>biolink:OrganismalEntity</a>. Its edges have 2 edge types, which are <a href='https://biolink.github.io/biolink-model/docs/subclass_of.html' target='_blank' title='Go to BioLink to get more informations about biolink:subclass_of'>biolink:subclass_of</a> (19 edges, 95.00%) and <a href='https://biolink.github.io/biolink-model/docs/related_to.html' target='_blank' title='Go to BioLink to get more informations about biolink:related_to'>biolink:related_to</a>.</p></li>\n<li><p class=\"paragraph\">Chain containing 10 nodes and starts from the node <a href='https://www.ncbi.nlm.nih.gov/taxonomy/?term=70999' target='_blank' title='Go to NCBI Taxonomy to get more informations about NCBITaxon:70999'>NCBITaxon:70999</a>. Specifically, the nodes involved in the chain are: <a href='https://www.ncbi.nlm.nih.gov/taxonomy/?term=27479' target='_blank' title='Go to NCBI Taxonomy to get more informations about NCBITaxon:27479'>NCBITaxon:27479</a>, <a href='https://www.ncbi.nlm.nih.gov/taxonomy/?term=33356' target='_blank' title='Go to NCBI Taxonomy to get more informations about NCBITaxon:33356'>NCBITaxon:33356</a>, <a href='https://www.ncbi.nlm.nih.gov/taxonomy/?term=33354' target='_blank' title='Go to NCBI Taxonomy to get more informations about NCBITaxon:33354'>NCBITaxon:33354</a>, <a href='https://www.ncbi.nlm.nih.gov/taxonomy/?term=33351' target='_blank' title='Go to NCBI Taxonomy to get more informations about NCBITaxon:33351'>NCBITaxon:33351</a>, <a href='https://www.ncbi.nlm.nih.gov/taxonomy/?term=33349' target='_blank' title='Go to NCBI Taxonomy to get more informations about NCBITaxon:33349'>NCBITaxon:33349</a> and other 4. Its nodes have a single node type, which is <a href='https://biolink.github.io/biolink-model/docs/OrganismalEntity.html' target='_blank' title='Go to BioLink to get more informations about biolink:OrganismalEntity'>biolink:OrganismalEntity</a>. Its edges have 2 edge types, which are <a href='https://biolink.github.io/biolink-model/docs/subclass_of.html' target='_blank' title='Go to BioLink to get more informations about biolink:subclass_of'>biolink:subclass_of</a> (19 edges, 95.00%) and <a href='https://biolink.github.io/biolink-model/docs/related_to.html' target='_blank' title='Go to BioLink to get more informations about biolink:related_to'>biolink:related_to</a>.</p></li></ol><h4 style=\"margin: 1em 0 0 0;\">Isomorphic node groups</h4><p class=\"paragraph\">Isomorphic node groups are nodes with exactly the same neighbours, node types, edge types and weights (if present in the graph). Nodes in such groups are topologically indistinguishable, that is swapping their ID would not change the graph topology. We have detected 673 isomorphic node groups in the graph, involving a total of 3.40K nodes (1.42%) and 69.02K edges (3.43%), with the largest one involving 114 nodes and 1.82K edges. The detected isomorphic node groups, sorted by decreasing size, are:</p><ol class=\"medium-columns\"><li><p class=\"paragraph\">Group with 114 nodes (degree 16 and node type <a href='https://biolink.github.io/biolink-model/docs/Protein.html' target='_blank' title='Go to BioLink to get more informations about biolink:Protein'>biolink:Protein</a>): <a href='https://www.uniprot.org/uniprot/A0A075B5U4' target='_blank' title='Go to UniProtKB to get more informations about UniProtKB:A0A075B5U4'>UniProtKB:A0A075B5U4</a>, <a href='https://www.uniprot.org/uniprot/A0A140T8P9' target='_blank' title='Go to UniProtKB to get more informations about UniProtKB:A0A140T8P9'>UniProtKB:A0A140T8P9</a>, <a href='https://www.uniprot.org/uniprot/A0A0A6YXQ0' target='_blank' title='Go to UniProtKB to get more informations about UniProtKB:A0A0A6YXQ0'>UniProtKB:A0A0A6YXQ0</a>, <a href='https://www.uniprot.org/uniprot/A0A0B4J1H6' target='_blank' title='Go to UniProtKB to get more informations about UniProtKB:A0A0B4J1H6'>UniProtKB:A0A0B4J1H6</a>, <a href='https://www.uniprot.org/uniprot/A0A0B4J1H8' target='_blank' title='Go to UniProtKB to get more informations about UniProtKB:A0A0B4J1H8'>UniProtKB:A0A0B4J1H8</a> and other 109.</p></li>\n<li><p class=\"paragraph\">Group with 97 nodes (degree 16 and node type <a href='https://biolink.github.io/biolink-model/docs/Protein.html' target='_blank' title='Go to BioLink to get more informations about biolink:Protein'>biolink:Protein</a>): <a href='https://www.uniprot.org/uniprot/A0A5F4D6U3' target='_blank' title='Go to UniProtKB to get more informations about UniProtKB:A0A5F4D6U3'>UniProtKB:A0A5F4D6U3</a>, <a href='https://www.uniprot.org/uniprot/H9GWR0' target='_blank' title='Go to UniProtKB to get more informations about UniProtKB:H9GWR0'>UniProtKB:H9GWR0</a>, <a href='https://www.uniprot.org/uniprot/A0A5F4CSD5' target='_blank' title='Go to UniProtKB to get more informations about UniProtKB:A0A5F4CSD5'>UniProtKB:A0A5F4CSD5</a>, <a href='https://www.uniprot.org/uniprot/A0A5F4D5I3' target='_blank' title='Go to UniProtKB to get more informations about UniProtKB:A0A5F4D5I3'>UniProtKB:A0A5F4D5I3</a>, <a href='https://www.uniprot.org/uniprot/E2R8C5' target='_blank' title='Go to UniProtKB to get more informations about UniProtKB:E2R8C5'>UniProtKB:E2R8C5</a> and other 92.</p></li>\n<li><p class=\"paragraph\">Group with 81 nodes (degree 16 and node type <a href='https://biolink.github.io/biolink-model/docs/Protein.html' target='_blank' title='Go to BioLink to get more informations about biolink:Protein'>biolink:Protein</a>): <a href='https://www.uniprot.org/uniprot/D3ZE07' target='_blank' title='Go to UniProtKB to get more informations about UniProtKB:D3ZE07'>UniProtKB:D3ZE07</a>, <a href='https://www.uniprot.org/uniprot/A0A0G2K9Z5' target='_blank' title='Go to UniProtKB to get more informations about UniProtKB:A0A0G2K9Z5'>UniProtKB:A0A0G2K9Z5</a>, <a href='https://www.uniprot.org/uniprot/A0A0G2K9W1' target='_blank' title='Go to UniProtKB to get more informations about UniProtKB:A0A0G2K9W1'>UniProtKB:A0A0G2K9W1</a>, <a href='https://www.uniprot.org/uniprot/A0A0G2K9L1' target='_blank' title='Go to UniProtKB to get more informations about UniProtKB:A0A0G2K9L1'>UniProtKB:A0A0G2K9L1</a>, <a href='https://www.uniprot.org/uniprot/A0A0G2K5X3' target='_blank' title='Go to UniProtKB to get more informations about UniProtKB:A0A0G2K5X3'>UniProtKB:A0A0G2K5X3</a> and other 76.</p></li>\n<li><p class=\"paragraph\">Group with 26 nodes (degree 48 and node type <a href='https://biolink.github.io/biolink-model/docs/Protein.html' target='_blank' title='Go to BioLink to get more informations about biolink:Protein'>biolink:Protein</a>): <a href='https://www.uniprot.org/uniprot/A0A5F4D079' target='_blank' title='Go to UniProtKB to get more informations about UniProtKB:A0A5F4D079'>UniProtKB:A0A5F4D079</a>, <a href='https://www.uniprot.org/uniprot/E2R3R2' target='_blank' title='Go to UniProtKB to get more informations about UniProtKB:E2R3R2'>UniProtKB:E2R3R2</a>, <a href='https://www.uniprot.org/uniprot/A0A5F4C8R9' target='_blank' title='Go to UniProtKB to get more informations about UniProtKB:A0A5F4C8R9'>UniProtKB:A0A5F4C8R9</a>, <a href='https://www.uniprot.org/uniprot/E2R0R1' target='_blank' title='Go to UniProtKB to get more informations about UniProtKB:E2R0R1'>UniProtKB:E2R0R1</a>, <a href='https://www.uniprot.org/uniprot/E2R0B6' target='_blank' title='Go to UniProtKB to get more informations about UniProtKB:E2R0B6'>UniProtKB:E2R0B6</a> and other 21.</p></li>\n<li><p class=\"paragraph\">Group with 24 nodes (degree 48 and node type <a href='https://biolink.github.io/biolink-model/docs/Protein.html' target='_blank' title='Go to BioLink to get more informations about biolink:Protein'>biolink:Protein</a>): <a href='https://www.uniprot.org/uniprot/P62334' target='_blank' title='Go to UniProtKB to get more informations about UniProtKB:P62334'>UniProtKB:P62334</a>, <a href='https://www.uniprot.org/uniprot/Q9R1P4' target='_blank' title='Go to UniProtKB to get more informations about UniProtKB:Q9R1P4'>UniProtKB:Q9R1P4</a>, <a href='https://www.uniprot.org/uniprot/Q9CR00' target='_blank' title='Go to UniProtKB to get more informations about UniProtKB:Q9CR00'>UniProtKB:Q9CR00</a>, <a href='https://www.uniprot.org/uniprot/O35226' target='_blank' title='Go to UniProtKB to get more informations about UniProtKB:O35226'>UniProtKB:O35226</a>, <a href='https://www.uniprot.org/uniprot/P28076' target='_blank' title='Go to UniProtKB to get more informations about UniProtKB:P28076'>UniProtKB:P28076</a> and other 19.</p></li>\n<li><p class=\"paragraph\">Group with 26 nodes (degree 44 and node type <a href='https://biolink.github.io/biolink-model/docs/Protein.html' target='_blank' title='Go to BioLink to get more informations about biolink:Protein'>biolink:Protein</a>): <a href='https://www.uniprot.org/uniprot/P18420' target='_blank' title='Go to UniProtKB to get more informations about UniProtKB:P18420'>UniProtKB:P18420</a>, <a href='https://www.uniprot.org/uniprot/Q9WTV5' target='_blank' title='Go to UniProtKB to get more informations about UniProtKB:Q9WTV5'>UniProtKB:Q9WTV5</a>, <a href='https://www.uniprot.org/uniprot/P34067' target='_blank' title='Go to UniProtKB to get more informations about UniProtKB:P34067'>UniProtKB:P34067</a>, <a href='https://www.uniprot.org/uniprot/Q63797' target='_blank' title='Go to UniProtKB to get more informations about UniProtKB:Q63797'>UniProtKB:Q63797</a>, <a href='https://www.uniprot.org/uniprot/Q5FVM2' target='_blank' title='Go to UniProtKB to get more informations about UniProtKB:Q5FVM2'>UniProtKB:Q5FVM2</a> and other 21.</p></li>\n<li><p class=\"paragraph\">Group with 24 nodes (degree 47 and node type <a href='https://biolink.github.io/biolink-model/docs/Protein.html' target='_blank' title='Go to BioLink to get more informations about biolink:Protein'>biolink:Protein</a>): <a href='https://www.uniprot.org/uniprot/F1MYH8' target='_blank' title='Go to UniProtKB to get more informations about UniProtKB:F1MYH8'>UniProtKB:F1MYH8</a>, <a href='https://www.uniprot.org/uniprot/Q3MHN0' target='_blank' title='Go to UniProtKB to get more informations about UniProtKB:Q3MHN0'>UniProtKB:Q3MHN0</a>, <a href='https://www.uniprot.org/uniprot/Q3T108' target='_blank' title='Go to UniProtKB to get more informations about UniProtKB:Q3T108'>UniProtKB:Q3T108</a>, <a href='https://www.uniprot.org/uniprot/Q2KJE7' target='_blank' title='Go to UniProtKB to get more informations about UniProtKB:Q2KJE7'>UniProtKB:Q2KJE7</a>, <a href='https://www.uniprot.org/uniprot/Q58DU5' target='_blank' title='Go to UniProtKB to get more informations about UniProtKB:Q58DU5'>UniProtKB:Q58DU5</a> and other 19.</p></li>\n<li><p class=\"paragraph\">Group with 23 nodes (degree 48 and node type <a href='https://biolink.github.io/biolink-model/docs/Protein.html' target='_blank' title='Go to BioLink to get more informations about biolink:Protein'>biolink:Protein</a>): <a href='https://www.uniprot.org/uniprot/A0A287BG14' target='_blank' title='Go to UniProtKB to get more informations about UniProtKB:A0A287BG14'>UniProtKB:A0A287BG14</a>, <a href='https://www.uniprot.org/uniprot/A0A287BRR7' target='_blank' title='Go to UniProtKB to get more informations about UniProtKB:A0A287BRR7'>UniProtKB:A0A287BRR7</a>, <a href='https://www.uniprot.org/uniprot/A0A287BRV0' target='_blank' title='Go to UniProtKB to get more informations about UniProtKB:A0A287BRV0'>UniProtKB:A0A287BRV0</a>, <a href='https://www.uniprot.org/uniprot/A0A287BTN9' target='_blank' title='Go to UniProtKB to get more informations about UniProtKB:A0A287BTN9'>UniProtKB:A0A287BTN9</a>, <a href='https://www.uniprot.org/uniprot/A0A288CG47' target='_blank' title='Go to UniProtKB to get more informations about UniProtKB:A0A288CG47'>UniProtKB:A0A288CG47</a> and other 18.</p></li>\n<li><p class=\"paragraph\">Group with 58 nodes (degree 19 and node type <a href='https://biolink.github.io/biolink-model/docs/Protein.html' target='_blank' title='Go to BioLink to get more informations about biolink:Protein'>biolink:Protein</a>): <a href='https://www.uniprot.org/uniprot/P01743' target='_blank' title='Go to UniProtKB to get more informations about UniProtKB:P01743'>UniProtKB:P01743</a>, <a href='https://www.uniprot.org/uniprot/A0A0C4DH73' target='_blank' title='Go to UniProtKB to get more informations about UniProtKB:A0A0C4DH73'>UniProtKB:A0A0C4DH73</a>, <a href='https://www.uniprot.org/uniprot/P06310' target='_blank' title='Go to UniProtKB to get more informations about UniProtKB:P06310'>UniProtKB:P06310</a>, <a href='https://www.uniprot.org/uniprot/P01615' target='_blank' title='Go to UniProtKB to get more informations about UniProtKB:P01615'>UniProtKB:P01615</a>, <a href='https://www.uniprot.org/uniprot/A2NXD2' target='_blank' title='Go to UniProtKB to get more informations about UniProtKB:A2NXD2'>UniProtKB:A2NXD2</a> and other 53.</p></li>\n<li><p class=\"paragraph\">Group with 24 nodes (degree 44 and node type <a href='https://biolink.github.io/biolink-model/docs/Protein.html' target='_blank' title='Go to BioLink to get more informations about biolink:Protein'>biolink:Protein</a>): <a href='https://www.uniprot.org/uniprot/Q9PTH5' target='_blank' title='Go to UniProtKB to get more informations about UniProtKB:Q9PTH5'>UniProtKB:Q9PTH5</a>, <a href='https://www.uniprot.org/uniprot/A0A2R8PYA0' target='_blank' title='Go to UniProtKB to get more informations about UniProtKB:A0A2R8PYA0'>UniProtKB:A0A2R8PYA0</a>, <a href='https://www.uniprot.org/uniprot/A0A2R8QBI3' target='_blank' title='Go to UniProtKB to get more informations about UniProtKB:A0A2R8QBI3'>UniProtKB:A0A2R8QBI3</a>, <a href='https://www.uniprot.org/uniprot/Q7ZV77' target='_blank' title='Go to UniProtKB to get more informations about UniProtKB:Q7ZV77'>UniProtKB:Q7ZV77</a>, <a href='https://www.uniprot.org/uniprot/Q6IQH4' target='_blank' title='Go to UniProtKB to get more informations about UniProtKB:Q6IQH4'>UniProtKB:Q6IQH4</a> and other 19.</p></li>\n<li><p class=\"paragraph\">Group with 33 nodes (degree 29 and node type <a href='https://biolink.github.io/biolink-model/docs/Protein.html' target='_blank' title='Go to BioLink to get more informations about biolink:Protein'>biolink:Protein</a>): <a href='https://www.uniprot.org/uniprot/F2Z4F9' target='_blank' title='Go to UniProtKB to get more informations about UniProtKB:F2Z4F9'>UniProtKB:F2Z4F9</a>, <a href='https://www.uniprot.org/uniprot/G3N0F3' target='_blank' title='Go to UniProtKB to get more informations about UniProtKB:G3N0F3'>UniProtKB:G3N0F3</a>, <a href='https://www.uniprot.org/uniprot/G5E6T5' target='_blank' title='Go to UniProtKB to get more informations about UniProtKB:G5E6T5'>UniProtKB:G5E6T5</a>, <a href='https://www.uniprot.org/uniprot/G3N0L9' target='_blank' title='Go to UniProtKB to get more informations about UniProtKB:G3N0L9'>UniProtKB:G3N0L9</a>, <a href='https://www.uniprot.org/uniprot/G3N1G0' target='_blank' title='Go to UniProtKB to get more informations about UniProtKB:G3N1G0'>UniProtKB:G3N1G0</a> and other 28.</p></li>\n<li><p class=\"paragraph\">Group with 84 nodes (degree 11 and node type <a href='https://biolink.github.io/biolink-model/docs/Protein.html' target='_blank' title='Go to BioLink to get more informations about biolink:Protein'>biolink:Protein</a>): <a href='https://www.uniprot.org/uniprot/A0A3Q2TRZ7' target='_blank' title='Go to UniProtKB to get more informations about UniProtKB:A0A3Q2TRZ7'>UniProtKB:A0A3Q2TRZ7</a>, <a href='https://www.uniprot.org/uniprot/A0A3Q2TT43' target='_blank' title='Go to UniProtKB to get more informations about UniProtKB:A0A3Q2TT43'>UniProtKB:A0A3Q2TT43</a>, <a href='https://www.uniprot.org/uniprot/A0A3Q2TTN1' target='_blank' title='Go to UniProtKB to get more informations about UniProtKB:A0A3Q2TTN1'>UniProtKB:A0A3Q2TTN1</a>, <a href='https://www.uniprot.org/uniprot/A0A3Q2TTU9' target='_blank' title='Go to UniProtKB to get more informations about UniProtKB:A0A3Q2TTU9'>UniProtKB:A0A3Q2TTU9</a>, <a href='https://www.uniprot.org/uniprot/A0A3Q2TUE3' target='_blank' title='Go to UniProtKB to get more informations about UniProtKB:A0A3Q2TUE3'>UniProtKB:A0A3Q2TUE3</a> and other 79.</p></li>\n<li><p class=\"paragraph\">Group with 14 nodes (degree 49 and node type <a href='https://biolink.github.io/biolink-model/docs/Protein.html' target='_blank' title='Go to BioLink to get more informations about biolink:Protein'>biolink:Protein</a>): <a href='https://www.uniprot.org/uniprot/Q99JI4' target='_blank' title='Go to UniProtKB to get more informations about UniProtKB:Q99JI4'>UniProtKB:Q99JI4</a>, <a href='https://www.uniprot.org/uniprot/Q9D8W5' target='_blank' title='Go to UniProtKB to get more informations about UniProtKB:Q9D8W5'>UniProtKB:Q9D8W5</a>, <a href='https://www.uniprot.org/uniprot/O09061' target='_blank' title='Go to UniProtKB to get more informations about UniProtKB:O09061'>UniProtKB:O09061</a>, <a href='https://www.uniprot.org/uniprot/Q9Z2U1' target='_blank' title='Go to UniProtKB to get more informations about UniProtKB:Q9Z2U1'>UniProtKB:Q9Z2U1</a>, <a href='https://www.uniprot.org/uniprot/Q9WVJ2' target='_blank' title='Go to UniProtKB to get more informations about UniProtKB:Q9WVJ2'>UniProtKB:Q9WVJ2</a> and other 9.</p></li>\n<li><p class=\"paragraph\">Group with 13 nodes (degree 52 and node type <a href='https://biolink.github.io/biolink-model/docs/Protein.html' target='_blank' title='Go to BioLink to get more informations about biolink:Protein'>biolink:Protein</a>): <a href='https://www.uniprot.org/uniprot/Q9V3P6' target='_blank' title='Go to UniProtKB to get more informations about UniProtKB:Q9V3P6'>UniProtKB:Q9V3P6</a>, <a href='https://www.uniprot.org/uniprot/Q9VW54' target='_blank' title='Go to UniProtKB to get more informations about UniProtKB:Q9VW54'>UniProtKB:Q9VW54</a>, <a href='https://www.uniprot.org/uniprot/Q7KMQ0' target='_blank' title='Go to UniProtKB to get more informations about UniProtKB:Q7KMQ0'>UniProtKB:Q7KMQ0</a>, <a href='https://www.uniprot.org/uniprot/Q7KMP8' target='_blank' title='Go to UniProtKB to get more informations about UniProtKB:Q7KMP8'>UniProtKB:Q7KMP8</a>, <a href='https://www.uniprot.org/uniprot/Q7KLV9' target='_blank' title='Go to UniProtKB to get more informations about UniProtKB:Q7KLV9'>UniProtKB:Q7KLV9</a> and other 8.</p></li>\n<li><p class=\"paragraph\">Group with 14 nodes (degree 48 and node type <a href='https://biolink.github.io/biolink-model/docs/Protein.html' target='_blank' title='Go to BioLink to get more informations about biolink:Protein'>biolink:Protein</a>): <a href='https://www.uniprot.org/uniprot/Q5E9F9' target='_blank' title='Go to UniProtKB to get more informations about UniProtKB:Q5E9F9'>UniProtKB:Q5E9F9</a>, <a href='https://www.uniprot.org/uniprot/F1MBI1' target='_blank' title='Go to UniProtKB to get more informations about UniProtKB:F1MBI1'>UniProtKB:F1MBI1</a>, <a href='https://www.uniprot.org/uniprot/Q5E964' target='_blank' title='Go to UniProtKB to get more informations about UniProtKB:Q5E964'>UniProtKB:Q5E964</a>, <a href='https://www.uniprot.org/uniprot/Q5E987' target='_blank' title='Go to UniProtKB to get more informations about UniProtKB:Q5E987'>UniProtKB:Q5E987</a>, <a href='https://www.uniprot.org/uniprot/P56701' target='_blank' title='Go to UniProtKB to get more informations about UniProtKB:P56701'>UniProtKB:P56701</a> and other 9.</p></li></ol><p class=\"paragraph\">And other 658 isomorphic node groups.</p></div>"
     },
     "execution_count": 2,
     "metadata": {},
     "output_type": "execute_result"
    }
   ],
   "source": [
    "g = KGIDG(version='20230601')\n",
    "main_component = g.remove_components(top_k_components=1)\n",
    "dense_main_component = main_component.remove_dendritic_trees()\n",
    "drug_types = [\"biolink:ChemicalSubstance\", \"biolink:ChemicalEntity\", \"biolink:Drug\"]\n",
    "protein_types = [\"biolink:Protein\"]\n",
    "minority_edge_type = 'minority_edge'\n",
    "dense_main_component.replace_edge_type_name_from_edge_node_type_names_inplace(\n",
    "    edge_type_name=minority_edge_type,\n",
    "    source_node_type_names=drug_types,\n",
    "    destination_node_type_names=protein_types\n",
    ")\n",
    "dense_main_component"
   ],
   "metadata": {
    "collapsed": false,
    "ExecuteTime": {
     "end_time": "2023-10-31T10:49:28.293584Z",
     "start_time": "2023-10-31T10:49:24.550886Z"
    }
   },
   "id": "282ceecb9ff745b1"
  },
  {
   "cell_type": "code",
   "execution_count": null,
   "outputs": [
    {
     "name": "stdout",
     "output_type": "stream",
     "text": [
      "train size: 0.75; validation_use_scale_free: True ModelClass <class 'embiggen.embedders.ensmallen_embedders.first_order_line.FirstOrderLINEEnsmallen'>\n"
     ]
    },
    {
     "data": {
      "text/plain": "Evaluating on KGIDG:   0%|          | 0/10 [00:00<?, ?it/s]",
      "application/vnd.jupyter.widget-view+json": {
       "version_major": 2,
       "version_minor": 0,
       "model_id": "58d4b8aafb144b349c8ac77751b0e237"
      }
     },
     "metadata": {},
     "output_type": "display_data"
    },
    {
     "data": {
      "text/plain": "  0%|          | 0/2 [00:00<?, ?it/s]",
      "application/vnd.jupyter.widget-view+json": {
       "version_major": 2,
       "version_minor": 0,
       "model_id": "179862abc3304f8eb7c5bf7196b22c7e"
      }
     },
     "metadata": {},
     "output_type": "display_data"
    },
    {
     "data": {
      "text/plain": "  0%|          | 0/2 [00:00<?, ?it/s]",
      "application/vnd.jupyter.widget-view+json": {
       "version_major": 2,
       "version_minor": 0,
       "model_id": "f14888e528714d138f4ad149b2daa558"
      }
     },
     "metadata": {},
     "output_type": "display_data"
    },
    {
     "data": {
      "text/plain": "  0%|          | 0/2 [00:00<?, ?it/s]",
      "application/vnd.jupyter.widget-view+json": {
       "version_major": 2,
       "version_minor": 0,
       "model_id": "1a22a4926a0c48ecb3b93b5fb9803508"
      }
     },
     "metadata": {},
     "output_type": "display_data"
    },
    {
     "data": {
      "text/plain": "  0%|          | 0/2 [00:00<?, ?it/s]",
      "application/vnd.jupyter.widget-view+json": {
       "version_major": 2,
       "version_minor": 0,
       "model_id": "229189b5e01e403795339ecf20c13580"
      }
     },
     "metadata": {},
     "output_type": "display_data"
    },
    {
     "data": {
      "text/plain": "  0%|          | 0/2 [00:00<?, ?it/s]",
      "application/vnd.jupyter.widget-view+json": {
       "version_major": 2,
       "version_minor": 0,
       "model_id": "9ab93bb3ee5241dfbbb9e8b7eec57bc1"
      }
     },
     "metadata": {},
     "output_type": "display_data"
    },
    {
     "data": {
      "text/plain": "  0%|          | 0/2 [00:00<?, ?it/s]",
      "application/vnd.jupyter.widget-view+json": {
       "version_major": 2,
       "version_minor": 0,
       "model_id": "fb7555158f3e44a5ac51be0ea89d7336"
      }
     },
     "metadata": {},
     "output_type": "display_data"
    },
    {
     "data": {
      "text/plain": "  0%|          | 0/2 [00:00<?, ?it/s]",
      "application/vnd.jupyter.widget-view+json": {
       "version_major": 2,
       "version_minor": 0,
       "model_id": "fb054b1de57f4f5e912d0d151ad6b79a"
      }
     },
     "metadata": {},
     "output_type": "display_data"
    },
    {
     "data": {
      "text/plain": "  0%|          | 0/2 [00:00<?, ?it/s]",
      "application/vnd.jupyter.widget-view+json": {
       "version_major": 2,
       "version_minor": 0,
       "model_id": "9af388bd8dfc4490be2aa5c90b8dbe94"
      }
     },
     "metadata": {},
     "output_type": "display_data"
    }
   ],
   "source": [
    "# Set smoke test to True for testing:\n",
    "# SMOKE_TEST = True\n",
    "NUMBER_OF_HOLDOUTS = 10\n",
    "VALIDATION_UNBALANCE_RATES = (1.0, )\n",
    "TRAIN_SIZES = (0.75,)\n",
    "subgraph = dense_main_component.filter_from_names(\n",
    "    edge_type_names_to_keep=[minority_edge_type]\n",
    ")\n",
    "# Disable the smoke test when you need to run the real thing:\n",
    "SMOKE_TEST = False # <- I WILL CHECK THIS ONCE AGAIN, BUT I AM PRETTY SURE I RAN IT WITH FALSE\n",
    "NUMBER_OF_HOLDOUTS = 10\n",
    "VALIDATION_UNBALANCE_RATES = (1.0, )\n",
    "TRAIN_SIZES = (0.75,)\n",
    "results = []\n",
    "for train_size in TRAIN_SIZES:\n",
    "    for validation_use_scale_free in (True, False):\n",
    "        for ModelClass in  [\n",
    "                FirstOrderLINEEnsmallen, SecondOrderLINEEnsmallen,\n",
    "                DeepWalkCBOWEnsmallen, DeepWalkSkipGramEnsmallen,\n",
    "                WalkletsCBOWEnsmallen, WalkletsSkipGramEnsmallen,\n",
    "            ]:\n",
    "            # If the embedding method involves edge sampling, we train a run\n",
    "            # using the scale free and one using the uniform.\n",
    "            if \"use_scale_free_distribution\" in ModelClass().parameters():\n",
    "                parameter_sets = [\n",
    "                    dict(\n",
    "                        use_scale_free_distribution = True\n",
    "                    ),\n",
    "                    dict(\n",
    "                        use_scale_free_distribution = False\n",
    "                    )\n",
    "                ]\n",
    "            else:\n",
    "                parameter_sets = [dict()]\n",
    "            print(f\"train size: {train_size}; validation_use_scale_free: {validation_use_scale_free} ModelClass {ModelClass}\")\n",
    "            for parameter_set in parameter_sets:\n",
    "                results.append(edge_prediction_evaluation(\n",
    "                    smoke_test=SMOKE_TEST,\n",
    "                    holdouts_kwargs=dict(\n",
    "                        train_size=train_size,\n",
    "                        edge_types=[minority_edge_type],\n",
    "                    ),\n",
    "                    evaluation_schema=\"Connected Monte Carlo\",\n",
    "                    node_features=ModelClass(**parameter_set),\n",
    "                    graphs=dense_main_component,\n",
    "                    models=[\n",
    "                        PerceptronEdgePrediction(\n",
    "                            edge_features=None,\n",
    "                            edge_embeddings=\"Hadamard\",\n",
    "                            number_of_edges_per_mini_batch=32,\n",
    "                            use_scale_free_distribution=use_scale_free_distribution\n",
    "                        )\n",
    "                        for use_scale_free_distribution in (True, False)\n",
    "                    ],\n",
    "                    enable_cache=True,\n",
    "                    number_of_holdouts=NUMBER_OF_HOLDOUTS,\n",
    "                    use_scale_free_distribution=validation_use_scale_free,\n",
    "                    validation_unbalance_rates=VALIDATION_UNBALANCE_RATES,\n",
    "                    subgraph_of_interest=subgraph,\n",
    "                    use_subgraph_as_support=False\n",
    "                ))\n",
    "results = pd.concat(results)\n",
    "results.to_csv(\"kg_idg_negative_select.tsv\",sep=\"\\t\")"
   ],
   "metadata": {
    "collapsed": false,
    "is_executing": true,
    "ExecuteTime": {
     "start_time": "2023-10-31T10:51:38.267251Z"
    }
   },
   "id": "e41b06342919ea54"
  }
 ],
 "metadata": {
  "kernelspec": {
   "display_name": "Python 3",
   "language": "python",
   "name": "python3"
  },
  "language_info": {
   "codemirror_mode": {
    "name": "ipython",
    "version": 2
   },
   "file_extension": ".py",
   "mimetype": "text/x-python",
   "name": "python",
   "nbconvert_exporter": "python",
   "pygments_lexer": "ipython2",
   "version": "2.7.6"
  }
 },
 "nbformat": 4,
 "nbformat_minor": 5
}
